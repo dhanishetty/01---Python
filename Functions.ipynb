{
 "cells": [
  {
   "cell_type": "markdown",
   "metadata": {},
   "source": [
    "# help function\n",
    "* This explains about inbuilt functions or the strings present in custom built functions"
   ]
  },
  {
   "cell_type": "code",
   "execution_count": 1,
   "metadata": {},
   "outputs": [
    {
     "name": "stdout",
     "output_type": "stream",
     "text": [
      "Help on built-in function print in module builtins:\n",
      "\n",
      "print(*args, sep=' ', end='\\n', file=None, flush=False)\n",
      "    Prints the values to a stream, or to sys.stdout by default.\n",
      "\n",
      "    sep\n",
      "      string inserted between values, default a space.\n",
      "    end\n",
      "      string appended after the last value, default a newline.\n",
      "    file\n",
      "      a file-like object (stream); defaults to the current sys.stdout.\n",
      "    flush\n",
      "      whether to forcibly flush the stream.\n",
      "\n"
     ]
    }
   ],
   "source": [
    "help(print)"
   ]
  },
  {
   "cell_type": "code",
   "execution_count": 4,
   "metadata": {},
   "outputs": [
    {
     "name": "stdout",
     "output_type": "stream",
     "text": [
      "Help on built-in function pow in module builtins:\n",
      "\n",
      "pow(base, exp, mod=None)\n",
      "    Equivalent to base**exp with 2 arguments or base**exp % mod with 3 arguments\n",
      "\n",
      "    Some types, such as ints, are able to use a more efficient algorithm when\n",
      "    invoked using the three argument form.\n",
      "\n"
     ]
    }
   ],
   "source": [
    "help(pow)"
   ]
  },
  {
   "cell_type": "code",
   "execution_count": 6,
   "metadata": {},
   "outputs": [
    {
     "name": "stdout",
     "output_type": "stream",
     "text": [
      "6\n",
      "Help on function Add in module __main__:\n",
      "\n",
      "Add(a: int, b: int) -> int\n",
      "    This function takes two numbers and prints addition of them\n",
      "\n"
     ]
    }
   ],
   "source": [
    "def Add(a: int, b : int) -> int:\n",
    "    \"\"\" This function takes two numbers and prints addition of them\"\"\"\n",
    "    print( a + b  )\n",
    "\n",
    "Add(2, 4)\n",
    "help(Add)\n"
   ]
  },
  {
   "cell_type": "markdown",
   "metadata": {},
   "source": [
    "# map"
   ]
  },
  {
   "cell_type": "markdown",
   "metadata": {},
   "source": [
    ">>> We are trying it in three different ways\n",
    "1. built in function\n",
    "2. With lambda\n",
    "3. custom function"
   ]
  },
  {
   "cell_type": "code",
   "execution_count": 12,
   "metadata": {},
   "outputs": [
    {
     "name": "stdout",
     "output_type": "stream",
     "text": [
      "[6, 5, 3, 6, 5]\n",
      "['Mr.Robert', 'Mr.Johny', 'Mr.Tim', 'Mr.Arnold', 'Mr.Keith']\n",
      "['ROBERT', 'JOHNY', 'TIM', 'ARNOLD', 'KEITH']\n"
     ]
    }
   ],
   "source": [
    "names = ['Robert', 'Johny', 'Tim', 'Arnold', 'Keith']\n",
    "\n",
    "names_len = map(len, names)\n",
    "print(list(names_len))\n",
    "\n",
    "new_names = map(lambda x : \"Mr.\" + x, names)\n",
    "print(list(new_names))\n",
    "\n",
    "def Upper_names(name:str) -> str:\n",
    "    return name.upper()\n",
    "\n",
    "names_upper = map(Upper_names, names)\n",
    "print(list(names_upper))"
   ]
  },
  {
   "cell_type": "markdown",
   "metadata": {},
   "source": [
    "# Filter\n",
    "* Filters the elements if condition is met"
   ]
  },
  {
   "cell_type": "code",
   "execution_count": 16,
   "metadata": {},
   "outputs": [
    {
     "name": "stdout",
     "output_type": "stream",
     "text": [
      "['Robert', 'Johny', 'Arnold', 'Keith']\n"
     ]
    }
   ],
   "source": [
    "names = ['Robert', 'Johny', 'Tim', 'Arnold', 'Keith']\n",
    "\n",
    "def longer_than_4(name):\n",
    "    return len(name) > 4\n",
    "\n",
    "New_list = filter(longer_than_4, names)\n",
    "print(list(New_list))"
   ]
  },
  {
   "cell_type": "markdown",
   "metadata": {},
   "source": []
  },
  {
   "cell_type": "code",
   "execution_count": null,
   "metadata": {},
   "outputs": [],
   "source": []
  }
 ],
 "metadata": {
  "kernelspec": {
   "display_name": "Python 3",
   "language": "python",
   "name": "python3"
  },
  "language_info": {
   "codemirror_mode": {
    "name": "ipython",
    "version": 3
   },
   "file_extension": ".py",
   "mimetype": "text/x-python",
   "name": "python",
   "nbconvert_exporter": "python",
   "pygments_lexer": "ipython3",
   "version": "3.12.1"
  }
 },
 "nbformat": 4,
 "nbformat_minor": 2
}
