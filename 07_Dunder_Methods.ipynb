{
  "cells": [
    {
      "cell_type": "markdown",
      "source": [
        "# Dunder methods"
      ],
      "metadata": {
        "id": "MMIwHhJJpXmM"
      }
    },
    {
      "cell_type": "markdown",
      "source": [
        "---\n",
        "### `__add__` dunder method\n",
        "\n",
        "* In the below example the string class already has the `__add__` method, so it is possible to execute\n",
        "---"
      ],
      "metadata": {
        "id": "c3Id6UwuiSlN"
      }
    },
    {
      "cell_type": "code",
      "source": [
        "# Example 1\n",
        "\n",
        "str1 = \"hello\"\n",
        "str2 = \"world\"\n",
        "\n",
        "first_version = str1 + str2\n",
        "\n",
        "Dunder_version = str1.__add__(str2)\n",
        "\n",
        "print(f\"{first_version = } \\n{Dunder_version = }\")"
      ],
      "metadata": {
        "id": "XtwwByHxoc7n",
        "outputId": "30fcddc7-d420-44fd-c249-82c0515cad38",
        "colab": {
          "base_uri": "https://localhost:8080/"
        }
      },
      "execution_count": null,
      "outputs": [
        {
          "output_type": "stream",
          "name": "stdout",
          "text": [
            "first_version = 'helloworld' \n",
            "Dunder_version = 'helloworld'\n"
          ]
        }
      ]
    },
    {
      "cell_type": "code",
      "source": [
        "# example 2\n",
        "\n",
        "text = \"Hello World\"\n",
        "\n",
        "one_way = len(text)\n",
        "Dunder_way = text.__len__()\n",
        "\n",
        "print(f\"{one_way = } \\n{Dunder_way = }\")"
      ],
      "metadata": {
        "id": "_K1d0YLviPBI",
        "outputId": "5e7781cd-76de-4670-e11c-f756452ea685",
        "colab": {
          "base_uri": "https://localhost:8080/"
        }
      },
      "execution_count": null,
      "outputs": [
        {
          "output_type": "stream",
          "name": "stdout",
          "text": [
            "one_way = 11 \n",
            "Dunder_way = 11\n"
          ]
        }
      ]
    },
    {
      "cell_type": "markdown",
      "source": [
        "---\n",
        "### printing an object of the class using Dunder method\n",
        "---"
      ],
      "metadata": {
        "id": "ZiK3vG4BnT0F"
      }
    },
    {
      "cell_type": "code",
      "source": [
        "class count():\n",
        "  def __init__(self) -> None:\n",
        "    self.value = 1\n",
        "\n",
        "  def countup(self):\n",
        "    self.value += 1\n",
        "\n",
        "  def countdown(self):\n",
        "    self.value -= 1\n",
        "\n",
        "count1 = count()\n",
        "count2 = count()\n",
        "\n",
        "count1.countup\n",
        "count2.countdown\n",
        "\n",
        "print(count1)\n",
        "print(count2)"
      ],
      "metadata": {
        "id": "yyk-gl4Pjec7",
        "outputId": "fba02129-2db7-4b4f-c5a7-e2bde0c0f096",
        "colab": {
          "base_uri": "https://localhost:8080/"
        }
      },
      "execution_count": null,
      "outputs": [
        {
          "output_type": "stream",
          "name": "stdout",
          "text": [
            "<__main__.count object at 0x7a1bb304d390>\n",
            "<__main__.count object at 0x7a1bb304c350>\n"
          ]
        }
      ]
    },
    {
      "cell_type": "markdown",
      "source": [
        "* So when ever we try to print an object. It looks for `__str__` method in that class and implements it"
      ],
      "metadata": {
        "id": "p5k_RNHOm9qZ"
      }
    },
    {
      "cell_type": "code",
      "source": [
        "class count():\n",
        "  def __init__(self) -> None:\n",
        "    self.value = 1\n",
        "\n",
        "  def countup(self):\n",
        "    self.value += 1\n",
        "\n",
        "  def countdown(self):\n",
        "    self.value -= 1\n",
        "\n",
        "  def __str__(self):\n",
        "    return str(self.value)\n",
        "\n",
        "count1 = count()\n",
        "count2 = count()\n",
        "\n",
        "count1.countup()\n",
        "count2.countdown()\n",
        "\n",
        "print(count1)\n",
        "print(count2)"
      ],
      "metadata": {
        "id": "icxnNoyvldBh",
        "outputId": "9586083e-2f93-4295-d0ec-10dfd47796c2",
        "colab": {
          "base_uri": "https://localhost:8080/"
        }
      },
      "execution_count": null,
      "outputs": [
        {
          "output_type": "stream",
          "name": "stdout",
          "text": [
            "2\n",
            "0\n"
          ]
        }
      ]
    },
    {
      "cell_type": "markdown",
      "source": [
        "---\n",
        "### ADD `__add__` Dunder method\n",
        "---"
      ],
      "metadata": {
        "id": "tD4znCtanpgX"
      }
    },
    {
      "cell_type": "code",
      "source": [
        "class count():\n",
        "  def __init__(self) -> None:\n",
        "    self.value = 1\n",
        "\n",
        "  def countup(self):\n",
        "    self.value += 1\n",
        "\n",
        "  def countdown(self):\n",
        "    self.value -= 1\n",
        "\n",
        "  def __str__(self):\n",
        "    return str(self.value)\n",
        "\n",
        "count1 = count()\n",
        "count2 = count()\n",
        "\n",
        "print(count1 + count2)"
      ],
      "metadata": {
        "id": "GVNPpN7qnoz1",
        "outputId": "4a218386-4c86-4402-8c4c-fbd2497a52d1",
        "colab": {
          "base_uri": "https://localhost:8080/",
          "height": 180
        }
      },
      "execution_count": null,
      "outputs": [
        {
          "output_type": "error",
          "ename": "TypeError",
          "evalue": "unsupported operand type(s) for +: 'count' and 'count'",
          "traceback": [
            "\u001b[0;31m---------------------------------------------------------------------------\u001b[0m",
            "\u001b[0;31mTypeError\u001b[0m                                 Traceback (most recent call last)",
            "\u001b[0;32m<ipython-input-19-8c99b4ef0ff1>\u001b[0m in \u001b[0;36m<cell line: 0>\u001b[0;34m()\u001b[0m\n\u001b[1;32m     15\u001b[0m \u001b[0mcount2\u001b[0m \u001b[0;34m=\u001b[0m \u001b[0mcount\u001b[0m\u001b[0;34m(\u001b[0m\u001b[0;34m)\u001b[0m\u001b[0;34m\u001b[0m\u001b[0;34m\u001b[0m\u001b[0m\n\u001b[1;32m     16\u001b[0m \u001b[0;34m\u001b[0m\u001b[0m\n\u001b[0;32m---> 17\u001b[0;31m \u001b[0mprint\u001b[0m\u001b[0;34m(\u001b[0m\u001b[0mcount1\u001b[0m \u001b[0;34m+\u001b[0m \u001b[0mcount2\u001b[0m\u001b[0;34m)\u001b[0m\u001b[0;34m\u001b[0m\u001b[0;34m\u001b[0m\u001b[0m\n\u001b[0m",
            "\u001b[0;31mTypeError\u001b[0m: unsupported operand type(s) for +: 'count' and 'count'"
          ]
        }
      ]
    },
    {
      "cell_type": "markdown",
      "source": [
        "* Now we use `__add__` Dunder method, so that we could add two objects"
      ],
      "metadata": {
        "id": "8gBZ4MHJo6NP"
      }
    },
    {
      "cell_type": "code",
      "source": [
        "class count():\n",
        "  def __init__(self) -> None:\n",
        "    self.value = 1\n",
        "\n",
        "  def countup(self):\n",
        "    self.value += 1\n",
        "\n",
        "  def countdown(self):\n",
        "    self.value -= 1\n",
        "\n",
        "  def __str__(self):\n",
        "    return str(self.value)\n",
        "\n",
        "  def __add__(self, other): # here self represents the current object and other represents the other object\n",
        "    return (self.value + other.value)\n",
        "\n",
        "count1 = count()\n",
        "count2 = count()\n",
        "\n",
        "print(count1 + count2)"
      ],
      "metadata": {
        "id": "SSFOP60dl1P5",
        "outputId": "a0c69082-1849-442d-a4cf-e83b32fb9a4e",
        "colab": {
          "base_uri": "https://localhost:8080/"
        }
      },
      "execution_count": null,
      "outputs": [
        {
          "output_type": "stream",
          "name": "stdout",
          "text": [
            "2\n"
          ]
        }
      ]
    },
    {
      "cell_type": "markdown",
      "source": [
        ">>> `Custom exception`"
      ],
      "metadata": {
        "id": "ZlM7Cz-66Lzq"
      }
    },
    {
      "cell_type": "code",
      "source": [
        "class count():\n",
        "  def __init__(self) -> None:\n",
        "    self.value = 1\n",
        "\n",
        "  def countup(self):\n",
        "    self.value += 1\n",
        "\n",
        "  def countdown(self):\n",
        "    self.value -= 1\n",
        "\n",
        "  def __str__(self):\n",
        "    return str(self.value)\n",
        "\n",
        "  def __add__(self, other): # here self represents the current object and other represents the other object\n",
        "    if isinstance(other, count): #We're checking if it is a instance of count.\n",
        "        return (self.value + other.value)\n",
        "    raise Exception(\"Hi, It is Invalid type\") #This is the Custom exception.\n",
        "\n",
        "count1 = count()\n",
        "count2 = count()\n",
        "\n",
        "print(count1 + count2)\n",
        "print(count1 + 5)"
      ],
      "metadata": {
        "id": "9rQjCaVNol3b"
      },
      "execution_count": null,
      "outputs": []
    },
    {
      "cell_type": "markdown",
      "source": [
        "# `__repr__`\n",
        "* It is meant for \"developers\" and debugging, providing an unambiguous representation that, if possible, could be used to recreate the object.\n",
        "* at least show enough detail to understand its internal state"
      ],
      "metadata": {
        "id": "fTFjsl1AA8j0"
      }
    },
    {
      "cell_type": "code",
      "source": [
        "class Car:\n",
        "  def __init__(self, make, model,year):\n",
        "    self.make = make\n",
        "    self.model = model\n",
        "    self.year = year\n",
        "\n",
        "  def __str__(self): # is meant for user-friendly output\n",
        "    return f\"{self.make} {self.model} {self.year}\"\n",
        "\n",
        "  def __repr__(self): # is meant for developers detailed output\n",
        "    return f\"Car(make = '{self.make}', model = '{self.model}', year = {self.year})\"\n",
        "\n",
        "car1 = Car(\"Toyota\", \"Camry\", \"2016\")\n",
        "\n",
        "print(car1) # User Friendly\n",
        "print(repr(car1)) # Developer Friendly"
      ],
      "metadata": {
        "id": "T7VAQ0ygBBzc"
      },
      "execution_count": null,
      "outputs": []
    },
    {
      "cell_type": "markdown",
      "source": [
        "### Arithmetic and Comparision Operators"
      ],
      "metadata": {
        "id": "zY-pwsYrGcTr"
      }
    },
    {
      "cell_type": "markdown",
      "source": [
        "### `__add__` addition method\n",
        "* last one throws error as we are trying to add different type of elements"
      ],
      "metadata": {
        "id": "OVvFtBmTOvvN"
      }
    },
    {
      "cell_type": "code",
      "source": [
        "class Fruits():\n",
        "    def __init__(self, name, quantity):\n",
        "        self.name= name\n",
        "        self.quantity = quantity\n",
        "\n",
        "    def __str__(self):\n",
        "        return f\"We have in Total {self.quantity} {self.name}\"\n",
        "\n",
        "    def __add__(self,other):\n",
        "        if isinstance(other, Fruits) and self.name == other.name:\n",
        "            return Fruits(self.name, self.quantity + other.quantity )\n",
        "        raise ValueError(\"***************Cannot add items of different types**********************\")\n",
        "\n",
        "\n",
        "\n",
        "Fruit_Basket1 = Fruits('Apples', 30)\n",
        "Fruit_Basket2 = Fruits('Oranges', 20)\n",
        "Fruit_Basket3 = Fruits('Apples', 20)\n",
        "\n",
        "print(Fruit_Basket1)\n",
        "New_basket = Fruit_Basket1 + Fruit_Basket3\n",
        "print(New_basket)\n",
        "print(Fruit_Basket1)\n",
        "\n",
        "New_basket1 = Fruit_Basket1 + Fruit_Basket2\n",
        "\n",
        "print(New_basket1)"
      ],
      "metadata": {
        "id": "nwg2zoAkOtI1"
      },
      "execution_count": null,
      "outputs": []
    },
    {
      "cell_type": "markdown",
      "source": [
        "### `__sub__` used to substract class instances\n",
        "* We can see last one not executing as we tried to substract different item types"
      ],
      "metadata": {
        "id": "VdFMDgyDPAqc"
      }
    },
    {
      "cell_type": "code",
      "source": [
        "class Fruits():\n",
        "    def __init__(self, name, quantity):\n",
        "        self.name= name\n",
        "        self.quantity = quantity\n",
        "\n",
        "    def __str__(self):\n",
        "        return f\"We have in Total {self.quantity} {self.name}\"\n",
        "\n",
        "    def __sub__(self, other):\n",
        "        if isinstance(other, Fruits) and self.name == other.name:\n",
        "            return Fruits(self.name, self.quantity + other.quantity)\n",
        "        raise ValueError(\"*********Cannot substract different type of items**************\")\n",
        "\n",
        "\n",
        "S_basket1 = Fruits('Apples', 30)\n",
        "S_basket2 = Fruits('Apples', 30)\n",
        "S_basket3 = Fruits('oranges', 20)\n",
        "S_basket4 = S_basket1 - S_basket2\n",
        "\n",
        "print(S_basket1)\n",
        "print(S_basket2)\n",
        "print(S_basket3)\n",
        "print(S_basket4)\n",
        "\n",
        "S_basket5 = S_basket1 - S_basket3\n"
      ],
      "metadata": {
        "id": "FflupwZAPBQt"
      },
      "execution_count": null,
      "outputs": []
    },
    {
      "cell_type": "markdown",
      "source": [
        "### `__mul__` used to Multiply classes\n"
      ],
      "metadata": {
        "id": "rR6f8JSGUqNd"
      }
    },
    {
      "cell_type": "code",
      "source": [
        "class Fruits():\n",
        "    def __init__(self, name, quantity):\n",
        "        self.name= name\n",
        "        self.quantity = quantity\n",
        "\n",
        "    def __str__(self):\n",
        "        return f\"We have in Total {self.quantity} {self.name}\"\n",
        "\n",
        "    def __mul__(self, factor):\n",
        "        if isinstance(factor, (int, float)):\n",
        "            return Fruits(self.name, int(self.quantity * factor))\n",
        "        raise ValueError(\"*********Multiplication factor should be int or float**************\")\n",
        "\n",
        "Fruit_Basket1 = Fruits('Apples', 30)\n",
        "Fruit_Basket2 = Fruits('Oranges', 20)\n",
        "Fruit_Basket3 = Fruits('Apples', 20)\n",
        "\n",
        "M_basket_1 = Fruit_Basket1 * 3\n",
        "M_basket_2 = Fruit_Basket2 * 3\n",
        "M_basket_3 = Fruit_Basket3 * 3\n",
        "\n",
        "print(M_basket_1)\n",
        "print(M_basket_2)\n",
        "print(M_basket_3)"
      ],
      "metadata": {
        "id": "gyrsXoPgUzp3"
      },
      "execution_count": null,
      "outputs": []
    },
    {
      "cell_type": "markdown",
      "source": [
        "In the same way we we could do\n",
        "\n",
        "* def `__truediv__` for division\n",
        "* def `__eq__` to check if they are equal\n",
        "* def `__lt__` to check if it is \"less than\"\n",
        "* def `__gt__` \"greater than\"\n",
        "* def `__gte__` \"greater than or equal to\"\n",
        "* def `__ne__`\"Not equal to\""
      ],
      "metadata": {
        "id": "bafxvW3fU3P1"
      }
    },
    {
      "cell_type": "markdown",
      "source": [
        "### Others\n",
        "\n",
        "* we could add \"append\", List \"Length\", finding using index, deleting using index, checking if an item is present in the list."
      ],
      "metadata": {
        "id": "ei3xpMl4i8wn"
      }
    },
    {
      "cell_type": "markdown",
      "source": [
        "# Context manager\n"
      ],
      "metadata": {
        "id": "bZ6HSSNzjg-x"
      }
    },
    {
      "cell_type": "code",
      "source": [],
      "metadata": {
        "id": "rROiqQERjjER"
      },
      "execution_count": null,
      "outputs": []
    }
  ],
  "metadata": {
    "colab": {
      "provenance": []
    },
    "kernelspec": {
      "display_name": "Python 3",
      "name": "python3"
    }
  },
  "nbformat": 4,
  "nbformat_minor": 0
}