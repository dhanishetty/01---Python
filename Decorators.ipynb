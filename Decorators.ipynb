{
 "cells": [
  {
   "cell_type": "markdown",
   "metadata": {},
   "source": [
    "### Wrapper Function\n",
    "\n",
    "* A Python decorator is a function that modifies the behavior of another function or method without permanently changing it. \n",
    "* Decorators allow you to wrap another function in order to extend or alter its behavior."
   ]
  },
  {
   "cell_type": "code",
   "execution_count": null,
   "metadata": {},
   "outputs": [
    {
     "name": "stdout",
     "output_type": "stream",
     "text": [
      "Good Morning !!!\n",
      "Execution time : 0.000000 seconds\n"
     ]
    }
   ],
   "source": [
    "import time\n",
    "\n",
    "def measure_time(func):\n",
    "    def wrapper():\n",
    "        start = time.time()\n",
    "        func()\n",
    "        end = time.time()\n",
    "        print(f'Execution time : {end - start:.6f} seconds')\n",
    "    return wrapper\n",
    "\n",
    "@measure_time\n",
    "def greetings():\n",
    "    print('Good Morning !!!')\n",
    "\n",
    "greetings()"
   ]
  },
  {
   "cell_type": "code",
   "execution_count": 11,
   "metadata": {},
   "outputs": [
    {
     "name": "stdout",
     "output_type": "stream",
     "text": [
      "Good Morning !!!\n",
      "This is the Wrapper function called once\n",
      "Good Morning !!!\n",
      "-----------------\n"
     ]
    }
   ],
   "source": [
    "import time\n",
    "\n",
    "def measure_time(func):\n",
    "    def wrappers():\n",
    "        func()\n",
    "        print(\"This is the Wrapper function called once\")\n",
    "        func()\n",
    "        print(\"-----------------\")\n",
    "        \n",
    "    return wrappers\n",
    "\n",
    "@measure_time\n",
    "def greetings():\n",
    "    print('Good Morning !!!')\n",
    "\n",
    "greetings()"
   ]
  },
  {
   "cell_type": "markdown",
   "metadata": {},
   "source": [
    "---\n",
    "### To pass Arguments into the function\n",
    "---"
   ]
  },
  {
   "cell_type": "code",
   "execution_count": 7,
   "metadata": {},
   "outputs": [
    {
     "name": "stdout",
     "output_type": "stream",
     "text": [
      "Welcome from Wrapper Function\n",
      "Good Morning Rajesh\n"
     ]
    }
   ],
   "source": [
    "def hello(func):\n",
    "    def wrapper(*args, **kwargs):\n",
    "        print(\"Welcome from Wrapper Function\")\n",
    "        func(*args, **kwargs)\n",
    "    return wrapper\n",
    "\n",
    "@hello\n",
    "def greetings(name):\n",
    "    print(f\"Good Morning {name}\")\n",
    "\n",
    "greetings('Rajesh')\n",
    "\n"
   ]
  },
  {
   "cell_type": "markdown",
   "metadata": {},
   "source": [
    "---\n",
    "### Multiple Decorators\n",
    "---"
   ]
  },
  {
   "cell_type": "code",
   "execution_count": 40,
   "metadata": {},
   "outputs": [],
   "source": [
    "def IsItOdd(func): # decorator 1\n",
    "    def wrapper(*args, **kwargs):\n",
    "        print (\"******************************* Decorator 1 started executing\")\n",
    "        result = func(*args, **kwargs)\n",
    "        if result % 2 == 0:\n",
    "            print(f\" {result} is Odd Number\")\n",
    "        else:\n",
    "            print(f\"{result} is not Odd Number\")\n",
    "        print (\"******************************* Decorator 1 finished executing\")\n",
    "        return result\n",
    "    return wrapper\n",
    "\n",
    "def IsItEven(func): # decorator 2\n",
    "    def wrapper(*args, **kwargs):\n",
    "        print (\"******************************* Decorator 2 started executing\")\n",
    "        result = func(*args, **kwargs)\n",
    "        if (result % 2) != 0:\n",
    "            print(f\" {result} is Even Number\")\n",
    "        else:\n",
    "            print(f\" {result} is not Even Number\")\n",
    "        print (\"******************************* Decorator 2 finished executing\")  \n",
    "        return result          \n",
    "    return wrapper\n",
    "\n",
    "@IsItOdd # decorator 1\n",
    "@IsItEven # decorator 2\n",
    "def number(*agrs, **kwargs):\n",
    "    print (\"******************************* Main Function started executing\")\n",
    "    print(\"Enter the Number\")\n",
    "    x= int(input())\n",
    "    return x\n",
    "\n",
    "\n"
   ]
  },
  {
   "cell_type": "code",
   "execution_count": 41,
   "metadata": {},
   "outputs": [
    {
     "name": "stdout",
     "output_type": "stream",
     "text": [
      "******************************* Decorator 1 started executing\n",
      "******************************* Decorator 2 started executing\n",
      "******************************* Main Function started executing\n",
      "Enter the Number\n",
      " 9 is Even Number\n",
      "******************************* Decorator 2 finished executing\n",
      "9 is not Odd Number\n",
      "******************************* Decorator 1 finished executing\n"
     ]
    },
    {
     "data": {
      "text/plain": [
       "9"
      ]
     },
     "execution_count": 41,
     "metadata": {},
     "output_type": "execute_result"
    }
   ],
   "source": [
    "number()\n"
   ]
  },
  {
   "cell_type": "code",
   "execution_count": null,
   "metadata": {},
   "outputs": [],
   "source": []
  }
 ],
 "metadata": {
  "kernelspec": {
   "display_name": "Python 3",
   "language": "python",
   "name": "python3"
  },
  "language_info": {
   "codemirror_mode": {
    "name": "ipython",
    "version": 3
   },
   "file_extension": ".py",
   "mimetype": "text/x-python",
   "name": "python",
   "nbconvert_exporter": "python",
   "pygments_lexer": "ipython3",
   "version": "3.12.1"
  }
 },
 "nbformat": 4,
 "nbformat_minor": 2
}
