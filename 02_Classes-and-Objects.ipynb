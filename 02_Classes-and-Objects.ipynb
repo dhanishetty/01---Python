{
 "cells": [
  {
   "cell_type": "markdown",
   "metadata": {},
   "source": [
    "### Python OOPS\n",
    "* Functions inside classes are called Methods\n",
    "* Attributes store an object's state (e.g., color, owner, design).\n",
    "* Methods define behaviors (e.g., locking doors, turning on lights).\n",
    "* Attributes and methods together form the members of a class."
   ]
  },
  {
   "cell_type": "markdown",
   "metadata": {},
   "source": [
    "### **Defining a Class in Python**\n",
    "\n",
    "#### **Code Example:**\n",
    "\n",
    "```python\n",
    "import math\n",
    "\n",
    "class Circle:\n",
    "    def __init__(self, radius):  # Constructor (Initializer)\n",
    "        self.radius = radius  # Instance Attribute\n",
    "\n",
    "    def calculate_area(self):  # Instance Method\n",
    "        return math.pi * self.radius ** 2  # Compute area\n",
    "```\n",
    "\n",
    "#### **Key Points:**\n",
    "\n",
    "- Use the **`class`** keyword to define a class.\n",
    "- The class body contains **attributes (variables)** and **methods (functions)**.\n",
    "- **Namespace:** Attributes and methods exist within the class namespace and must be accessed via class instances.\n",
    "- **Example Class: `Circle`**\n",
    "  - **Attribute:** `radius` stores the circle’s radius.\n",
    "  - **Methods:**\n",
    "    - `__init__(self, radius)`: Constructor initializes the `radius` attribute.\n",
    "    - `calculate_area(self)`: Computes and returns the circle’s area using `math.pi`.\n",
    "- **`self` Argument:**\n",
    "  - Refers to the instance of the class.\n",
    "  - Allows access to instance attributes and methods.\n",
    "- **Instantiation:** To use the class, create objects from it (covered next).\n",
    "\n"
   ]
  },
  {
   "cell_type": "markdown",
   "metadata": {},
   "source": [
    "\n",
    "---\n",
    "\n",
    "### **Creating Objects From a Class in Python**\n",
    "\n",
    "#### **Code Example:**\n",
    "\n",
    "```python\n",
    "from circle import Circle\n",
    "\n",
    "# Creating instances of Circle\n",
    "circle_1 = Circle(42)\n",
    "circle_2 = Circle(7)\n",
    "\n",
    "print(circle_1)  # Output: <__main__.Circle object at 0x102b835d0>\n",
    "print(circle_2)  # Output: <__main__.Circle object at 0x1035e3910>\n",
    "```\n",
    "\n",
    "#### **Key Points:**\n",
    "\n",
    "- **Instantiation** is the process of creating an object from a class.\n",
    "- Call the class constructor using `ClassName(arguments)` to create an instance.\n",
    "- The constructor (`__init__` method) requires arguments, just like function calls.\n",
    "- **Example:**\n",
    "  - `circle_1 = Circle(42)`: Creates an object with radius `42`.\n",
    "  - `circle_2 = Circle(7)`: Creates an object with radius `7`.\n",
    "- Each instance is a **separate object** with unique data stored in memory.\n",
    "- **Next Step:** Accessing attributes and methods of the class.\n",
    "\n"
   ]
  },
  {
   "cell_type": "markdown",
   "metadata": {},
   "source": [
    "\n",
    "---\n",
    "\n",
    "### **Accessing Attributes and Methods**\n",
    "\n",
    "#### **Code Example:**\n",
    "\n",
    "```python\n",
    "from circle import Circle\n",
    "\n",
    "# Creating instances of Circle\n",
    "circle_1 = Circle(42)\n",
    "circle_2 = Circle(7)\n",
    "\n",
    "# Accessing attributes\n",
    "print(circle_1.radius)  # Output: 42\n",
    "print(circle_2.radius)  # Output: 7\n",
    "\n",
    "# Calling methods\n",
    "print(circle_1.calculate_area())  # Output: 5541.769440932395\n",
    "print(circle_2.calculate_area())  # Output: 153.93804002589985\n",
    "\n",
    "# Modifying attributes\n",
    "circle_1.radius = 100\n",
    "print(circle_1.radius)  # Output: 100\n",
    "print(circle_1.calculate_area())  # Output: 31415.926535897932\n",
    "```\n",
    "\n",
    "#### **Key Points:**\n",
    "\n",
    "- Use **dot notation (`.`)** to access attributes and methods of an object:\n",
    "  - `obj.attribute_name` → Accesses an attribute’s value.\n",
    "  - `obj.method_name()` → Calls a method.\n",
    "- **Example:**\n",
    "  - `circle_1.radius` returns `42`.\n",
    "  - `circle_1.calculate_area()` computes and returns the area.\n",
    "- **Modifying Attributes:**\n",
    "  - Assigning a new value (`circle_1.radius = 100`) updates the attribute.\n",
    "  - The new value immediately affects method outputs (`calculate_area()`).\n",
    "\n"
   ]
  },
  {
   "cell_type": "markdown",
   "metadata": {},
   "source": [
    "\n",
    "---\n",
    "\n",
    "### **Naming Conventions in Python Classes**\n",
    "\n",
    "#### **Key Points:**\n",
    "\n",
    "- **Python relies on conventions** rather than restrictions for naming in classes.\n",
    "- **Naming Conventions:**\n",
    "  - **Functions & Methods:** Use `snake_case` (e.g., `calculate_area()`).\n",
    "  - **Classes:** Use `PascalCase` (e.g., `Circle`).\n",
    "\n",
    "#### **Public vs Non-Public Members**\n",
    "\n",
    "| Member Type  | Naming Convention | Examples               |\n",
    "|-------------|------------------|-----------------------|\n",
    "| **Public**   | Normal naming    | `radius`, `calculate_area()` |\n",
    "| **Non-public** | Leading underscore `_` | `_radius`, `_calculate_area()` |\n",
    "\n",
    "- **Public members** are part of the class’s official API and should be accessed normally.\n",
    "- **Non-public members** (with a leading `_`) indicate that they **should not** be accessed outside the class.\n",
    "  - Example: `_radius` is intended for internal use.\n",
    "  - **Not enforced:** You can access them (`obj._radius`), but this is bad practice.\n",
    "- **Best Practice:** Start with attributes as **non-public** and make them public only if needed.\n",
    "- **Why?**\n",
    "  - Prevents unintended modifications.\n",
    "  - Maintains flexibility in future code changes.\n",
    "\n"
   ]
  },
  {
   "cell_type": "markdown",
   "metadata": {},
   "source": [
    "\n",
    "---\n",
    "\n",
    "### **Name Mangling in Python Classes**\n",
    "\n",
    "#### **Code Example:**\n",
    "\n",
    "```python\n",
    "class SampleClass:\n",
    "    def __init__(self, value):\n",
    "        self.__value = value  # Name-mangled attribute\n",
    "\n",
    "    def __method(self):  # Name-mangled method\n",
    "        print(self.__value)\n",
    "\n",
    "sample_instance = SampleClass(\"Hello!\")\n",
    "print(vars(sample_instance))  # Output: {'_SampleClass__value': 'Hello!'}\n",
    "\n",
    "# Accessing name-mangled attributes and methods (Not recommended)\n",
    "print(sample_instance._SampleClass__value)  # Output: 'Hello!'\n",
    "sample_instance._SampleClass__method()  # Output: 'Hello!'\n",
    "```\n",
    "\n",
    "#### **Key Points:**\n",
    "\n",
    "- **Name mangling** occurs when an attribute or method has **two leading underscores** (`__`), renaming it internally.\n",
    "- The name is transformed to `_ClassName__attribute` or `_ClassName__method`.\n",
    "- **Purpose:** Provides name hiding, mainly to avoid **name clashes in inheritance**.\n",
    "- **Example:**\n",
    "  - `self.__value` becomes `_SampleClass__value`.\n",
    "  - `self.__method()` becomes `_SampleClass__method()`.\n",
    "- **Accessing Name-Mangled Attributes (Not Recommended):**\n",
    "  - They can still be accessed via `obj._ClassName__attribute`, but **this is bad practice**.\n",
    "- **Best Practice:**\n",
    "  - Avoid direct access to name-mangled members.\n",
    "  - Use them only when necessary (e.g., inheritance conflict resolution).\n",
    "\n"
   ]
  },
  {
   "cell_type": "markdown",
   "metadata": {},
   "source": [
    "\n",
    "---\n",
    "\n",
    "### **Understanding the Benefits of Using Classes in Python**\n",
    "\n",
    "#### **Key Points:**\n",
    "\n",
    "- **Model and solve complex real-world problems:**\n",
    "  - Classes help structure code by mapping objects to real-world entities.\n",
    "- **Reuse code and avoid repetition:**\n",
    "  - Inheritance allows related classes to share functionality, reducing duplication.\n",
    "- **Encapsulate related data and behaviors in a single entity:**\n",
    "  - Attributes and methods are bundled into objects for better organization and modularity.\n",
    "- **Abstract away implementation details:**\n",
    "  - Classes allow you to provide clean interfaces (APIs) while hiding complex logic.\n",
    "- **Unlock polymorphism with common interfaces:**\n",
    "  - Different classes can implement the same interface, making code more flexible.\n",
    "- **Better maintainability and scalability:**\n",
    "  - Classes make code easier to manage, scale, and reuse across projects.\n",
    "\n",
    "**Note:** While classes provide many benefits, they should not be used unnecessarily, as they can overcomplicate simple solutions.\n",
    "\n",
    "---\n",
    "\n",
    "### **Deciding When to Avoid Classes**\n",
    "\n",
    "#### **Key Points:**\n",
    "\n",
    "- **Avoid using classes when:**\n",
    "  - You only need to store data → Use a **data class, enumeration, or named tuple** instead.\n",
    "  - Your class has a single method → Use a **function** instead.\n",
    "  - The functionality is already available through built-in types or third-party libraries.\n",
    "- **Situations where classes may not be necessary:**\n",
    "  - **Small and simple scripts** → Classes may be overkill.\n",
    "  - **Performance-critical programs** → Creating many objects can add overhead.\n",
    "  - **Legacy codebases** → Introducing classes may break consistency.\n",
    "  - **Team coding style** → Stick to the team’s preferred approach.\n",
    "  - **Functional programming projects** → Introducing classes disrupts functional paradigms.\n",
    "- **Best Practice:** Start simple. Use classes only when the need arises.\n",
    "\n",
    "---\n",
    "\n"
   ]
  },
  {
   "cell_type": "markdown",
   "metadata": {},
   "source": [
    "\n",
    "---\n",
    "\n",
    "### **The `__dict__` Attribute**\n",
    "\n",
    "#### **Key Points:**\n",
    "\n",
    "- **`__dict__` stores writable attributes of a class or instance** as a dictionary.\n",
    "- In **classes**, `__dict__` contains **class attributes and methods**.\n",
    "- In **instances**, `__dict__` contains **only instance attributes**.\n",
    "- **Example:**\n",
    "\n",
    "```python\n",
    "class SampleClass:\n",
    "    class_attr = 100\n",
    "    \n",
    "    def __init__(self, instance_attr):\n",
    "        self.instance_attr = instance_attr\n",
    "    \n",
    "    def method(self):\n",
    "        print(f\"Class attribute: {self.class_attr}\")\n",
    "        print(f\"Instance attribute: {self.instance_attr}\")\n",
    "\n",
    "# Checking class attributes\n",
    "print(SampleClass.__dict__)  \n",
    "# Output: {'class_attr': 100, '__init__': <function>, 'method': <function>}\n",
    "\n",
    "# Creating an instance\n",
    "instance = SampleClass(\"Hello!\")\n",
    "print(instance.__dict__)  # Output: {'instance_attr': 'Hello!'}\n",
    "```\n",
    "\n",
    "- **Modifying Attributes with `__dict__`**:\n",
    "  - `instance.__dict__[\"instance_attr\"] = \"New Value\"` changes an instance attribute.\n",
    "  - New attributes can be added dynamically.\n",
    "\n",
    "---\n",
    "\n",
    "### **Dynamic Class and Instance Attributes**\n",
    "\n",
    "#### **Key Points:**\n",
    "\n",
    "- Python allows **adding attributes dynamically** to classes and instances.\n",
    "- This enables flexible class structures for changing requirements.\n",
    "- **Example:**\n",
    "\n",
    "```python\n",
    "class Record:\n",
    "    pass\n",
    "\n",
    "john = {\n",
    "    \"name\": \"John Doe\",\n",
    "    \"position\": \"Python Developer\",\n",
    "    \"department\": \"Engineering\",\n",
    "    \"salary\": 80000,\n",
    "}\n",
    "\n",
    "# Creating an instance dynamically\n",
    "john_record = Record()\n",
    "for field, value in john.items():\n",
    "    setattr(john_record, field, value)\n",
    "\n",
    "print(john_record.__dict__)  \n",
    "# Output: {'name': 'John Doe', 'position': 'Python Developer', 'department': 'Engineering', 'salary': 80000}\n",
    "```\n",
    "\n",
    "- **Dynamically adding methods to a class:**\n",
    "\n",
    "```python\n",
    "class User:\n",
    "    pass\n",
    "\n",
    "# Adding instance attributes dynamically\n",
    "jane = User()\n",
    "jane.name = \"Jane Doe\"\n",
    "jane.job = \"Data Engineer\"\n",
    "print(jane.__dict__)  # Output: {'name': 'Jane Doe', 'job': 'Data Engineer'}\n",
    "\n",
    "# Adding a method dynamically\n",
    "def __init__(self, name, job):\n",
    "    self.name = name\n",
    "    self.job = job\n",
    "\n",
    "User.__init__ = __init__\n",
    "\n",
    "# Creating a new instance with dynamic method\n",
    "linda = User(\"Linda Smith\", \"Team Lead\")\n",
    "print(linda.__dict__)  # Output: {'name': 'Linda Smith', 'job': 'Team Lead'}\n",
    "```\n",
    "\n",
    "- **Caution:**\n",
    "  - Dynamically modifying classes can make code harder to understand.\n",
    "  - Use with caution to maintain readability and maintainability.\n",
    "\n",
    "---\n",
    "\n"
   ]
  },
  {
   "cell_type": "markdown",
   "metadata": {},
   "source": [
    "### super() = Function used in a child class to call methods from a parent class (superclass)"
   ]
  },
  {
   "cell_type": "code",
   "execution_count": 13,
   "metadata": {},
   "outputs": [
    {
     "name": "stdout",
     "output_type": "stream",
     "text": [
      "C------\n",
      "B****\n",
      "A\n",
      "B*****\n",
      "A\n",
      "C------\n",
      "(<class '__main__.c'>, <class '__main__.b'>, <class '__main__.a'>, <class 'object'>)\n"
     ]
    }
   ],
   "source": [
    "class a():\n",
    "    def greet(self):\n",
    "        print(\"A\")\n",
    "\n",
    "class b(a):\n",
    "    def call(self):\n",
    "        print(\"B****\")\n",
    "        super().greet()\n",
    "        print(\"B*****\")\n",
    "\n",
    "class c(b):\n",
    "    def called(self):\n",
    "        print(\"C------\")\n",
    "        super().call()\n",
    "        super().greet()\n",
    "        print(\"C------\")\n",
    "C = c()\n",
    "C.called()\n",
    "\n",
    "print(c.__mro__) \n",
    "    \n"
   ]
  },
  {
   "cell_type": "code",
   "execution_count": 14,
   "metadata": {},
   "outputs": [
    {
     "name": "stdout",
     "output_type": "stream",
     "text": [
      "C------\n",
      "B****\n",
      "A\n",
      "B*****\n",
      "C------\n",
      "(<class '__main__.c'>, <class '__main__.b'>, <class '__main__.a'>, <class 'object'>)\n"
     ]
    }
   ],
   "source": [
    "class a():\n",
    "    def greet(self):\n",
    "        print(\"A\")\n",
    "\n",
    "class b(a):\n",
    "    def greet(self):\n",
    "        print(\"B****\")\n",
    "        super().greet()\n",
    "        print(\"B*****\")\n",
    "\n",
    "class c(b):\n",
    "    def greet(self):\n",
    "        print(\"C------\")\n",
    "        \n",
    "        super().greet()\n",
    "        print(\"C------\")\n",
    "C = c()\n",
    "C.greet()\n",
    "\n",
    "print(c.__mro__) "
   ]
  },
  {
   "cell_type": "code",
   "execution_count": 15,
   "metadata": {},
   "outputs": [
    {
     "name": "stdout",
     "output_type": "stream",
     "text": [
      "Hi from A\n",
      "Hi from C\n",
      "Hi from B\n",
      "Hi from D\n"
     ]
    }
   ],
   "source": [
    "class A:\n",
    "    def greet(self):\n",
    "        print(\"Hi from A\")\n",
    "\n",
    "class B(A):\n",
    "    def greet(self):\n",
    "        super().greet()\n",
    "        print(\"Hi from B\")\n",
    "\n",
    "class C(A):\n",
    "    def greet(self):\n",
    "        super().greet()\n",
    "        print(\"Hi from C\")\n",
    "\n",
    "class D(B, C):  # Inherits from both B and C\n",
    "    def greet(self):\n",
    "        super().greet()\n",
    "        print(\"Hi from D\")\n",
    "\n",
    "D().greet()\n",
    "# Output:\n",
    "# Hi from A\n",
    "# Hi from C\n",
    "# Hi from B\n",
    "# Hi from D\n",
    "\n"
   ]
  },
  {
   "cell_type": "markdown",
   "metadata": {},
   "source": [
    "### Here \"str\" & \"int\" classes are built in classes"
   ]
  },
  {
   "cell_type": "code",
   "execution_count": null,
   "metadata": {},
   "outputs": [
    {
     "name": "stdout",
     "output_type": "stream",
     "text": [
      "<class 'str'>\n",
      "DANNY\n",
      "<class 'int'>\n"
     ]
    }
   ],
   "source": [
    "name  = \"danny\"\n",
    "age = 30\n",
    "\n",
    "print(type(name)) #it prints Class\n",
    "print(name.upper()) #It is a method of that class\n",
    "print(type(age))"
   ]
  },
  {
   "cell_type": "markdown",
   "metadata": {},
   "source": [
    "---\n",
    "### Accessing one class from another class \n",
    "---"
   ]
  },
  {
   "cell_type": "code",
   "execution_count": null,
   "metadata": {},
   "outputs": [
    {
     "name": "stdout",
     "output_type": "stream",
     "text": [
      "Welcome Bruce !!!\n",
      "The Dog count is 1\n",
      "Greetings : Whoof Whoof\n",
      "Breed :  Scottish Terrier\n",
      "Owner : John\n",
      "*****************************************\n",
      "Welcome Whi-whi !!!\n",
      "The Dog count is 2\n",
      "Breed : pamorean\n",
      "Owner : Jane\n",
      "Total number of dogs: 2\n"
     ]
    }
   ],
   "source": [
    "class Dog:\n",
    "    Dog_Count = 0  # Class attribute to count instances\n",
    "    \n",
    "    def __init__(self, name, owner, breed = \"pamorean\"): #this method is intialized each time a object is created # self can be anything it is associated with that particular instance\n",
    "        self.name = name #attributes\n",
    "        self.breed = breed\n",
    "        self.owner = owner\n",
    "        print(f\"Welcome {self.name} !!!\")\n",
    "        \n",
    "        Dog.Dog_Count += 1  # Increment the class attribute\n",
    "        print(f\"The Dog count is {Dog.Dog_Count}\")\n",
    "    \n",
    "    def bark(self): # method\n",
    "        print(\"Greetings : Whoof Whoof\")\n",
    "\n",
    "class Owner:\n",
    "    def __init__(self, name, address, contact_number):\n",
    "        self.name = name\n",
    "        self.address = address\n",
    "        self.phone_number = contact_number\n",
    "\n",
    "\n",
    "owner_1 = Owner(\"John\", \"123 Main St\", \"555-0123\") #object created from owner class\n",
    "owner_2 = Owner(\"Jane\", \"456 Elm St\", \"555-1234\")\n",
    "\n",
    "dog_1 = Dog(\"Bruce\", owner_1,\"Scottish Terrier\") #object created from dog class\n",
    "dog_1.bark()\n",
    "print(\"Breed : \",dog_1.breed)\n",
    "print(f\"Owner : {dog_1.owner.name}\") #print(dog_1.owner.name)\n",
    "print(\"*****************************************\")\n",
    "dog_2 = Dog(\"Whi-whi\", owner_2)\n",
    "print(\"Breed :\" ,dog_2.breed)\n",
    "print(f\"Owner : {dog_2.owner.name}\") # Printing owner name from different class\n",
    "\n",
    "#Print number of dogs created\n",
    "print(f\"Total number of dogs: {Dog.Dog_Count}\")\n",
    "\n",
    "\n"
   ]
  },
  {
   "cell_type": "markdown",
   "metadata": {},
   "source": [
    "---\n",
    "### Classes, objects, attributes, methods and self\n",
    "* Class is a blueprint for creating objects.\n",
    "* Object is an instance of a class. \n",
    "* attributes are variables that store information about the object. example self.breed = breed in init method of Dog class.\n",
    "* Methods are functions that are defined inside a class.\n",
    "* self is a reference to the instance or object that is being created of the class.\n",
    "___"
   ]
  },
  {
   "cell_type": "markdown",
   "metadata": {},
   "source": [
    "---\n",
    "### Static Attributes : It is a class attributes and shared among instances and not belong to specific object or instance\n",
    "\n",
    "* They are created once with Class\n",
    "---"
   ]
  },
  {
   "cell_type": "code",
   "execution_count": 16,
   "metadata": {},
   "outputs": [
    {
     "name": "stdout",
     "output_type": "stream",
     "text": [
      "The person count is 1\n",
      "Hello, my name is John and I am 24 years old.\n",
      "The person count is 2\n",
      "Hello, my name is jane and I am 25 years old.\n",
      "Count : 2\n",
      "Count : 2\n",
      "Count : 2\n"
     ]
    }
   ],
   "source": [
    "class Person:\n",
    "    person_count = 0 #Static Attributes\n",
    "\n",
    "    def __init__(self, name, age):\n",
    "        Person.person_count += 1\n",
    "        self.name = name # Attributes\n",
    "        self.age = age\n",
    "        print(f\"The person count is {Person.person_count}\")\n",
    "\n",
    "    def greet(self):\n",
    "        print(f\"Hello, my name is {self.name} and I am {self.age} years old.\") #here we can see self is refering to the object\n",
    "\n",
    "Person1 = Person(\"John\", 24)\n",
    "Person1.greet()\n",
    "Person2 = Person(\"jane\", 25)\n",
    "Person2.greet()\n",
    "\n",
    "\n",
    "#Person_count being a static variable will be same even if accessed from different instances\n",
    "print(f\"Count : {Person.person_count}\") \n",
    "print(f\"Count : {Person1.person_count}\") \n",
    "print(f\"Count : {Person2.person_count}\") \n",
    "\n",
    "\n",
    "\n"
   ]
  },
  {
   "cell_type": "markdown",
   "metadata": {},
   "source": [
    "___\n",
    "### Accessing and modifying object data\n",
    "---"
   ]
  },
  {
   "cell_type": "code",
   "execution_count": 6,
   "metadata": {},
   "outputs": [
    {
     "name": "stdout",
     "output_type": "stream",
     "text": [
      "Message from Tom : Hi Henry, its Tom\n",
      "******\n"
     ]
    }
   ],
   "source": [
    "class User:\n",
    "    def __init__(self, username, email, password):\n",
    "        self.username = username\n",
    "        self.email = email\n",
    "        self.password = password\n",
    "\n",
    "    def say_hi_to_user(self, user):\n",
    "        print(f\"Message from {self.username} : Hi {user.username}, its {self.username}\")\n",
    "\n",
    "User1 = User(\"Tom\", \"Tom@gmail.com\", \"12345\")\n",
    "User2 = User(\"Henry\", \"henry@gmail.com\", \"66666\")\n",
    "\n",
    "User1.say_hi_to_user(User2) # Accessing one class from another\n",
    "\n",
    "User1.password = \"******\" # Modifying Object data\n",
    "print(User1.password)"
   ]
  },
  {
   "cell_type": "markdown",
   "metadata": {},
   "source": [
    "---\n",
    "### Making object attributes private using \"name Mangling\":\n",
    "\n",
    "* \"_\" adding one means its protected\n",
    "* \"__\" adding double underscore means it private and called as \"name mangled\" variables\n",
    "* Both can be accessed within the class\n",
    "---"
   ]
  },
  {
   "cell_type": "code",
   "execution_count": null,
   "metadata": {},
   "outputs": [
    {
     "ename": "AttributeError",
     "evalue": "'User' object has no attribute '__email'",
     "output_type": "error",
     "traceback": [
      "\u001b[1;31m---------------------------------------------------------------------------\u001b[0m",
      "\u001b[1;31mAttributeError\u001b[0m                            Traceback (most recent call last)",
      "Cell \u001b[1;32mIn[14], line 11\u001b[0m\n\u001b[0;32m      5\u001b[0m         \u001b[38;5;28mself\u001b[39m\u001b[38;5;241m.\u001b[39mpassword \u001b[38;5;241m=\u001b[39m password\n\u001b[0;32m      9\u001b[0m User1 \u001b[38;5;241m=\u001b[39m User(\u001b[38;5;124m\"\u001b[39m\u001b[38;5;124mTom\u001b[39m\u001b[38;5;124m\"\u001b[39m, \u001b[38;5;124m\"\u001b[39m\u001b[38;5;124mTom@gmail.com\u001b[39m\u001b[38;5;124m\"\u001b[39m, \u001b[38;5;124m\"\u001b[39m\u001b[38;5;124m12345\u001b[39m\u001b[38;5;124m\"\u001b[39m)\n\u001b[1;32m---> 11\u001b[0m \u001b[38;5;28mprint\u001b[39m(\u001b[43mUser1\u001b[49m\u001b[38;5;241;43m.\u001b[39;49m\u001b[43m__email\u001b[49m)  \u001b[38;5;66;03m# Here email is protected by \"name mangling\" technique. so it cant be printed\u001b[39;00m\n\u001b[0;32m     13\u001b[0m User1\u001b[38;5;241m.\u001b[39m_email \u001b[38;5;241m=\u001b[39m \u001b[38;5;124m\"\u001b[39m\u001b[38;5;124mHello@gmail.com\u001b[39m\u001b[38;5;124m\"\u001b[39m\n\u001b[0;32m     15\u001b[0m \u001b[38;5;28mprint\u001b[39m(User1\u001b[38;5;241m.\u001b[39m__email)\n",
      "\u001b[1;31mAttributeError\u001b[0m: 'User' object has no attribute '__email'"
     ]
    }
   ],
   "source": [
    "class User:\n",
    "    def __init__(self, username, email, password):\n",
    "        self.username = username \n",
    "        self.__email = email # make them Private by adding \"__\" before them \n",
    "        self.password = password\n",
    "    \n",
    "\n",
    "\n",
    "User1 = User(\"Tom\", \"Tom@gmail.com\", \"12345\")\n",
    "\n",
    "print(User1.__email)  # Here email is protected by \"name mangling\" technique. so it cant be printed or accessed outside of class\n",
    "\n",
    "User1._email = \"Hello@gmail.com\"\n",
    "\n",
    "print(User1.__email)\n"
   ]
  },
  {
   "cell_type": "markdown",
   "metadata": {},
   "source": [
    "# Use getters and setters for protected attributes"
   ]
  },
  {
   "cell_type": "markdown",
   "metadata": {},
   "source": [
    "---\n",
    "### Static Methods\n",
    "\n",
    "* method belongs to the class rather than any instance of the class\n",
    "* @staticmethod decorator is used to define it\n",
    "* NO \"self\" in Method Attributes\n",
    "---"
   ]
  },
  {
   "cell_type": "code",
   "execution_count": null,
   "metadata": {},
   "outputs": [
    {
     "name": "stdout",
     "output_type": "stream",
     "text": [
      "5000\n",
      "\n",
      "Thanks for the 4999 deposit. Your total is 9999\n",
      "\n",
      "Bank working hours are from 09:00 to 16:00 Hrs\n",
      "\n",
      "Bank working hours are from 09:00 to 16:00 Hrs\n"
     ]
    }
   ],
   "source": [
    "class banking:\n",
    "    def __init__(self, Name : str, Amount : int):\n",
    "        self.Name = Name\n",
    "        self.Amount = Amount\n",
    "    \n",
    "    def deposit(self, Money : int):\n",
    "        if Money > 0:\n",
    "            self.Amount += Money\n",
    "            print(f\"\\nThanks for the {Money} deposit. Your total is {self.Amount}\")\n",
    "        else :\n",
    "            print(\"Please enter a positive number\") \n",
    "\n",
    "  \n",
    "    @staticmethod\n",
    "    def Banking_Hours():\n",
    "        print(\"\\nBank working hours are from 09:00 to 16:00 Hrs\")\n",
    "\n",
    "Customer1 = banking(\"Iiera\", 5000)\n",
    "print(Customer1.Amount)\n",
    "Customer1.deposit(4999)\n",
    "\n",
    "banking.Banking_Hours() #static method called using main Class\n",
    "Customer1.Banking_Hours() #static method called using instance"
   ]
  },
  {
   "cell_type": "markdown",
   "metadata": {},
   "source": [
    "---\n",
    "### Protected and Private Methods\n",
    "\n",
    "* if one _ before the method name then it is protected\n",
    "* if two __ before the method name then it is Private\n",
    "--- "
   ]
  },
  {
   "cell_type": "code",
   "execution_count": 31,
   "metadata": {},
   "outputs": [
    {
     "name": "stdout",
     "output_type": "stream",
     "text": [
      "5000\n",
      "\n",
      "Logging Deposit of $4999. New balance: $9999\n"
     ]
    }
   ],
   "source": [
    "class banking:\n",
    "    def __init__(self, Name : str, Amount : int):\n",
    "        self.Name = Name\n",
    "        self.Amount = Amount\n",
    "    \n",
    "    def deposit(self, Money : int):\n",
    "        if self._IsValidAmount(Money):\n",
    "            self.Amount += Money\n",
    "            self.__log_transaction(\"Deposit\", Money)\n",
    "        else :\n",
    "            print(\"Please enter a positive number\") \n",
    "\n",
    "    def _IsValidAmount(self, Money):\n",
    "        if Money > 0:\n",
    "            return Money\n",
    "        else: \n",
    "            print(\"enter a valid number\")\n",
    "\n",
    "    def __log_transaction(self, transaction_type, amount):\n",
    "        print(f\"\\nLogging {transaction_type} of ${amount}. New balance: ${self.Amount}\")\n",
    "        \n",
    "\n",
    "Customer1 = banking(\"Iiera\", 5000)\n",
    "print(Customer1.Amount)\n",
    "Customer1.deposit(4999)\n"
   ]
  },
  {
   "cell_type": "code",
   "execution_count": null,
   "metadata": {},
   "outputs": [
    {
     "name": "stdout",
     "output_type": "stream",
     "text": [
      "\n",
      "Logging Deposit of $3999. New balance: $21996\n"
     ]
    },
    {
     "ename": "AttributeError",
     "evalue": "'banking' object has no attribute '__log_transaction'",
     "output_type": "error",
     "traceback": [
      "\u001b[1;31m---------------------------------------------------------------------------\u001b[0m",
      "\u001b[1;31mAttributeError\u001b[0m                            Traceback (most recent call last)",
      "Cell \u001b[1;32mIn[34], line 3\u001b[0m\n\u001b[0;32m      1\u001b[0m Customer1\u001b[38;5;241m.\u001b[39mdeposit(\u001b[38;5;241m3999\u001b[39m)\n\u001b[1;32m----> 3\u001b[0m \u001b[43mCustomer1\u001b[49m\u001b[38;5;241;43m.\u001b[39;49m\u001b[43m__log_transaction\u001b[49m(\u001b[38;5;124m\"\u001b[39m\u001b[38;5;124mdeposit\u001b[39m\u001b[38;5;124m\"\u001b[39m, \u001b[38;5;241m5000\u001b[39m) \u001b[38;5;66;03m# As it is private method it cannot be accessed from outside\u001b[39;00m\n",
      "\u001b[1;31mAttributeError\u001b[0m: 'banking' object has no attribute '__log_transaction'"
     ]
    }
   ],
   "source": [
    "Customer1.deposit(3999) # this is not private, so got executed.\n",
    "\n",
    "Customer1.__log_transaction(\"deposit\", 5000) # As it is private method it cannot be accessed from outside"
   ]
  },
  {
   "cell_type": "markdown",
   "metadata": {},
   "source": [
    "---\n",
    "### Encapsulation\n",
    "\n",
    "* Helps in hiding internal implementation details\n",
    "---"
   ]
  },
  {
   "cell_type": "code",
   "execution_count": 35,
   "metadata": {},
   "outputs": [
    {
     "name": "stdout",
     "output_type": "stream",
     "text": [
      "1000\n",
      "Balance: 1000\n"
     ]
    }
   ],
   "source": [
    "class BankAccount:\n",
    "    def __init__(self, name, balance):\n",
    "        self.name = name\n",
    "        self._balance = balance  # Protected attribute\n",
    "\n",
    "    def show_balance(self):\n",
    "        print(f\"Balance: {self._balance}\")\n",
    "\n",
    "account = BankAccount(\"Alice\", 1000)\n",
    "print(account._balance)  # ⚠️ Allowed, but not recommended (Protected access)\n",
    "account.show_balance()  # ✅ Proper way to access\n"
   ]
  },
  {
   "cell_type": "code",
   "execution_count": 41,
   "metadata": {},
   "outputs": [
    {
     "name": "stdout",
     "output_type": "stream",
     "text": [
      "5000\n",
      "-1000\n"
     ]
    }
   ],
   "source": [
    "class BankAccount:\n",
    "    def __init__(self, account_holder, balance):\n",
    "        self.account_holder = account_holder\n",
    "        self.__balance = balance  # Private attribute\n",
    "\n",
    "account_1 = BankAccount(\"John\", 5000)\n",
    "#print(account.__balance)  # ❌ Throws AttributeError (private attribute)\n",
    "\n",
    "# Bypassing Encapsulation (Not recommended)\n",
    "print(account_1._BankAccount__balance)  # ⚠️ Accessing private variable directly\n",
    "account_1._BankAccount__balance = -1000  # ⚠️ No validation\n",
    "print(account_1._BankAccount__balance)  # ❌ Balance is now invalid!\n"
   ]
  },
  {
   "cell_type": "code",
   "execution_count": 43,
   "metadata": {},
   "outputs": [
    {
     "name": "stdout",
     "output_type": "stream",
     "text": [
      "5000\n",
      "3000\n",
      "-1000\n"
     ]
    }
   ],
   "source": [
    "class BankAccount:\n",
    "    def __init__(self, account_holder, balance):\n",
    "        self.account_holder = account_holder\n",
    "        self.__balance = balance  # Private attribute\n",
    "\n",
    "    @property\n",
    "    def balance(self):  # Getter\n",
    "        return self.__balance\n",
    "\n",
    "    @balance.setter\n",
    "    def balance(self, new_balance):  # Setter\n",
    "        if new_balance >= 0:\n",
    "            self.__balance = new_balance\n",
    "        else:\n",
    "            print(\"❌ Error: Balance cannot be negative!\")\n",
    "\n",
    "account = BankAccount(\"John\", 5000)\n",
    "print(account.balance)  # ✅ Access using getter\n",
    "\n",
    "account.balance = 3000  # ✅ Modify using setter\n",
    "print(account.balance)  # ✅ Updated balance\n",
    "\n",
    "account._BankAccount__balance = -1000  # ⚠️ No validation\n",
    "print(account._BankAccount__balance)  # ❌ Balance is now invalid!\n"
   ]
  },
  {
   "cell_type": "markdown",
   "metadata": {},
   "source": []
  }
 ],
 "metadata": {
  "kernelspec": {
   "display_name": "Python 3",
   "language": "python",
   "name": "python3"
  },
  "language_info": {
   "codemirror_mode": {
    "name": "ipython",
    "version": 3
   },
   "file_extension": ".py",
   "mimetype": "text/x-python",
   "name": "python",
   "nbconvert_exporter": "python",
   "pygments_lexer": "ipython3",
   "version": "3.12.1"
  }
 },
 "nbformat": 4,
 "nbformat_minor": 2
}
