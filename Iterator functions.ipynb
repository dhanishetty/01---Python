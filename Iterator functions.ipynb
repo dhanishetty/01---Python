{
 "cells": [
  {
   "cell_type": "markdown",
   "metadata": {},
   "source": [
    "# Iterator & Generator\n",
    "\n",
    "* Both use `next()` to proceed to next iteration and only generator uses `yield`\n",
    "   \n",
    "1. The difference is Iterator puts out the value from the list one at a time.\n",
    "2. Generator runs a function and generate a value, one at a time. \n",
    "\n",
    "* An Iterator lets you fetch items one by one from an Iterable (e.g. list, tuple, string)\n",
    "* Once an iterator is exhausted, it cannot be reused.\n",
    "* so when we use `next()` function it only proceeds further and returns nothing once it is done with all elements\n",
    "---\n",
    "* A generator is a special kind of iterator that is defined using `yield`.\n",
    "* it can generate values on the fly without holding them all in memory.\n"
   ]
  },
  {
   "cell_type": "markdown",
   "metadata": {},
   "source": [
    "---\n",
    "### Simple Generator\n",
    "---"
   ]
  },
  {
   "cell_type": "code",
   "execution_count": 9,
   "metadata": {},
   "outputs": [
    {
     "name": "stdout",
     "output_type": "stream",
     "text": [
      "1\n",
      "4\n",
      "9\n",
      "16\n",
      "25\n"
     ]
    }
   ],
   "source": [
    "x= [1,2,3,4,5]\n",
    "\n",
    "def x_square(num):\n",
    "    for i in num:\n",
    "        yield(i*i)\n",
    "\n",
    "y = x_square(x)\n",
    "\n",
    "print(next(y))\n",
    "print(next(y))\n",
    "print(next(y))\n",
    "print(next(y))\n",
    "print(next(y))"
   ]
  },
  {
   "cell_type": "markdown",
   "metadata": {},
   "source": [
    "---\n",
    "### Simple Iterator\n",
    "---"
   ]
  },
  {
   "cell_type": "code",
   "execution_count": 11,
   "metadata": {},
   "outputs": [
    {
     "name": "stdout",
     "output_type": "stream",
     "text": [
      "<list_iterator object at 0x000001C4041DFB20>\n",
      "1\n",
      "2\n",
      "3\n",
      "[4, 5, 6, 7, 8, 9, 10]\n"
     ]
    }
   ],
   "source": [
    "numbers = [1,2,3,4,5,6,7,8,9,10]\n",
    "Iterators = iter(numbers)\n",
    "\n",
    "print(Iterators)#Prints Iterator Object\n",
    "print(next(Iterators))\n",
    "print(next(Iterators))\n",
    "print(next(Iterators))\n",
    "print(list(Iterators))"
   ]
  },
  {
   "cell_type": "code",
   "execution_count": null,
   "metadata": {},
   "outputs": [],
   "source": [
    "from itertools import batched\n",
    "\n",
    "numbers : list[int] = [1,2,3,4,5,6,7,8,9,10]\n",
    "my_batch : batched = batched(numbers, n = 3)\n",
    "print(my_batch) #get batched object\n",
    "print(\"Three items in a batch\", list(my_batch))\n",
    "print(\"**************************************\")\n",
    "my_batch_1 : batched = batched(numbers, n = 2)\n",
    "print(\"Two items in a batch\", list(my_batch_1))\n",
    "print(\"**************************************\")\n"
   ]
  },
  {
   "cell_type": "code",
   "execution_count": null,
   "metadata": {},
   "outputs": [],
   "source": [
    "# To get single batch each time\n",
    "\n",
    "print(next(my_batch)) #First Batch\n",
    "print(next(my_batch)) #Second Batch\n",
    "print(next(my_batch)) #Third Batch"
   ]
  },
  {
   "cell_type": "markdown",
   "metadata": {},
   "source": [
    "# Zip_longest \n",
    ">>> Groups elements from multiple lists"
   ]
  },
  {
   "cell_type": "code",
   "execution_count": null,
   "metadata": {},
   "outputs": [
    {
     "name": "stdout",
     "output_type": "stream",
     "text": [
      "[('India', 'INR', 999), ('USA', 'Dollars', 888), ('Russia', 'Ruble', 777), ('South Korea', 'Won', 666), ('Japan', None, 555), (None, None, 444)]\n"
     ]
    }
   ],
   "source": [
    "from itertools import zip_longest\n",
    "\n",
    "Countries :list[str] = ['India', 'USA', 'Russia', 'South Korea', 'Japan']\n",
    "Currencies : list[str] = ['INR', 'Dollars', 'Ruble', 'Won',]\n",
    "Population : list[int] = [999, 888, 777, 666, 555,444]\n",
    "\n",
    "zipped : zip_longest = zip_longest(Countries, Currencies, Population)\n",
    "print(list(zipped))"
   ]
  },
  {
   "cell_type": "markdown",
   "metadata": {},
   "source": [
    ">>> To remove groups with empty spaces"
   ]
  },
  {
   "cell_type": "code",
   "execution_count": 15,
   "metadata": {},
   "outputs": [
    {
     "name": "stdout",
     "output_type": "stream",
     "text": [
      "[('India', 'INR', 999), ('USA', 'Dollars', 888), ('Russia', 'Ruble', 777), ('South Korea', 'Won', 666)]\n"
     ]
    }
   ],
   "source": [
    "zipped_1 : zip = zip (Countries, Currencies, Population)\n",
    "print(list(zipped_1))"
   ]
  },
  {
   "cell_type": "markdown",
   "metadata": {},
   "source": [
    ">>> To Fill empty spaces with particular elements"
   ]
  },
  {
   "cell_type": "code",
   "execution_count": 17,
   "metadata": {},
   "outputs": [
    {
     "name": "stdout",
     "output_type": "stream",
     "text": [
      "[('India', 'INR', 999), ('USA', 'Dollars', 888), ('Russia', 'Ruble', 777), ('South Korea', 'Won', 666), ('Japan', '***********', 555), ('***********', '***********', 444)]\n",
      "[('India', 'INR', 999), ('USA', 'Dollars', 888), ('Russia', 'Ruble', 777), ('South Korea', 'Won', 666), ('Japan', False, 555), (False, False, 444)]\n"
     ]
    }
   ],
   "source": [
    "zipped_2 : zip_longest = zip_longest(Countries, Currencies, Population, fillvalue= \"***********\")\n",
    "print(list(zipped_2))\n",
    "zipped_3 : zip_longest = zip_longest(Countries, Currencies, Population, fillvalue= False)\n",
    "print(list(zipped_3))"
   ]
  },
  {
   "cell_type": "markdown",
   "metadata": {},
   "source": [
    "# Product"
   ]
  },
  {
   "cell_type": "code",
   "execution_count": 19,
   "metadata": {},
   "outputs": [
    {
     "name": "stdout",
     "output_type": "stream",
     "text": [
      "('E', 'E', 'E')\n",
      "EEE\n",
      "('E', 'E', 'W')\n",
      "EEW\n",
      "('E', 'E', 'N')\n",
      "EEN\n",
      "('E', 'E', 'S')\n",
      "EES\n",
      "('E', 'W', 'E')\n",
      "EWE\n",
      "('E', 'W', 'W')\n",
      "EWW\n",
      "('E', 'W', 'N')\n",
      "EWN\n",
      "('E', 'W', 'S')\n",
      "EWS\n",
      "('E', 'N', 'E')\n",
      "ENE\n",
      "('E', 'N', 'W')\n",
      "ENW\n",
      "('E', 'N', 'N')\n",
      "ENN\n",
      "('E', 'N', 'S')\n",
      "ENS\n",
      "('E', 'S', 'E')\n",
      "ESE\n",
      "('E', 'S', 'W')\n",
      "ESW\n",
      "('E', 'S', 'N')\n",
      "ESN\n",
      "('E', 'S', 'S')\n",
      "ESS\n",
      "('W', 'E', 'E')\n",
      "WEE\n",
      "('W', 'E', 'W')\n",
      "WEW\n",
      "('W', 'E', 'N')\n",
      "WEN\n",
      "('W', 'E', 'S')\n",
      "WES\n",
      "('W', 'W', 'E')\n",
      "WWE\n",
      "('W', 'W', 'W')\n",
      "WWW\n",
      "('W', 'W', 'N')\n",
      "WWN\n",
      "('W', 'W', 'S')\n",
      "WWS\n",
      "('W', 'N', 'E')\n",
      "WNE\n",
      "('W', 'N', 'W')\n",
      "WNW\n",
      "('W', 'N', 'N')\n",
      "WNN\n",
      "('W', 'N', 'S')\n",
      "WNS\n",
      "('W', 'S', 'E')\n",
      "WSE\n",
      "('W', 'S', 'W')\n",
      "WSW\n",
      "('W', 'S', 'N')\n",
      "WSN\n",
      "('W', 'S', 'S')\n",
      "WSS\n",
      "('N', 'E', 'E')\n",
      "NEE\n",
      "('N', 'E', 'W')\n",
      "NEW\n",
      "('N', 'E', 'N')\n",
      "NEN\n",
      "('N', 'E', 'S')\n",
      "NES\n",
      "('N', 'W', 'E')\n",
      "NWE\n",
      "('N', 'W', 'W')\n",
      "NWW\n",
      "('N', 'W', 'N')\n",
      "NWN\n",
      "('N', 'W', 'S')\n",
      "NWS\n",
      "('N', 'N', 'E')\n",
      "NNE\n",
      "('N', 'N', 'W')\n",
      "NNW\n",
      "('N', 'N', 'N')\n",
      "NNN\n",
      "('N', 'N', 'S')\n",
      "NNS\n",
      "('N', 'S', 'E')\n",
      "NSE\n",
      "('N', 'S', 'W')\n",
      "NSW\n",
      "('N', 'S', 'N')\n",
      "NSN\n",
      "('N', 'S', 'S')\n",
      "NSS\n",
      "('S', 'E', 'E')\n",
      "SEE\n",
      "('S', 'E', 'W')\n",
      "SEW\n",
      "('S', 'E', 'N')\n",
      "SEN\n",
      "('S', 'E', 'S')\n",
      "SES\n",
      "('S', 'W', 'E')\n",
      "SWE\n",
      "('S', 'W', 'W')\n",
      "SWW\n",
      "('S', 'W', 'N')\n",
      "SWN\n",
      "('S', 'W', 'S')\n",
      "SWS\n",
      "('S', 'N', 'E')\n",
      "SNE\n",
      "('S', 'N', 'W')\n",
      "SNW\n",
      "('S', 'N', 'N')\n",
      "SNN\n",
      "('S', 'N', 'S')\n",
      "SNS\n",
      "('S', 'S', 'E')\n",
      "SSE\n",
      "('S', 'S', 'W')\n",
      "SSW\n",
      "('S', 'S', 'N')\n",
      "SSN\n",
      "('S', 'S', 'S')\n",
      "SSS\n"
     ]
    }
   ],
   "source": [
    "from itertools import product\n",
    "\n",
    "Directions : list[str] = ['E', 'W', 'N', 'S' ]\n",
    "Wind_Directions : product = product(Directions, repeat=3)\n",
    "\n",
    "for w in Wind_Directions:\n",
    "    print(w)\n",
    "    print(''.join(w))"
   ]
  },
  {
   "cell_type": "markdown",
   "metadata": {},
   "source": [
    "# Map\n",
    "\n",
    "🎯 Analogy:\n",
    "1. map() is like:\n",
    "* “Here’s a list of apples, one at a time — do something to each apple.”\n",
    "\n",
    "2. starmap() is like:\n",
    "* “Here’s a list of (fruit, size) pairs — do something that needs both fruit and size.”"
   ]
  },
  {
   "cell_type": "code",
   "execution_count": 32,
   "metadata": {},
   "outputs": [
    {
     "name": "stdout",
     "output_type": "stream",
     "text": [
      "[4, 9, 16, 25, 36]\n"
     ]
    }
   ],
   "source": [
    "numbers = [2,3,4,5,6]\n",
    "\n",
    "def square(x):\n",
    "    return x*x\n",
    "\n",
    "num_square = map(square, numbers)\n",
    "print(list(num_square))"
   ]
  },
  {
   "cell_type": "markdown",
   "metadata": {},
   "source": [
    "# StarMap \n",
    ">>> It can perform some function on each group usings its elements"
   ]
  },
  {
   "cell_type": "code",
   "execution_count": 25,
   "metadata": {},
   "outputs": [
    {
     "name": "stdout",
     "output_type": "stream",
     "text": [
      "[6, 15]\n"
     ]
    }
   ],
   "source": [
    "from itertools import starmap\n",
    "\n",
    "def get_sum(a: int, b: int, c: int) -> int:\n",
    "    return sum((a,b,c))\n",
    "\n",
    "data: list[tuple[int,int,int]] = [(1,2,3), (4,5,6)]\n",
    "sums : starmap = starmap(get_sum, data)\n",
    "print(list(sums))"
   ]
  },
  {
   "cell_type": "code",
   "execution_count": 24,
   "metadata": {},
   "outputs": [
    {
     "name": "stdout",
     "output_type": "stream",
     "text": [
      "[6, 15]\n"
     ]
    }
   ],
   "source": [
    "from itertools import starmap\n",
    "\n",
    "def get_sum(*args : int) -> int:\n",
    "    return sum((args))\n",
    "\n",
    "data: list[tuple[int,int,int]] = [(1,2,3), (4,5,6)]\n",
    "sums : starmap = starmap(get_sum, data)\n",
    "print(list(sums))"
   ]
  },
  {
   "cell_type": "markdown",
   "metadata": {},
   "source": [
    ">>> It takes first number to the power of second number"
   ]
  },
  {
   "cell_type": "code",
   "execution_count": 26,
   "metadata": {},
   "outputs": [
    {
     "name": "stdout",
     "output_type": "stream",
     "text": [
      "[16, 27, 16]\n"
     ]
    }
   ],
   "source": [
    "data: list[tuple[int, int]] = [(2,4), (3,3), (4,2)]\n",
    "powers: starmap = starmap(pow, data)\n",
    "print(list(powers)) "
   ]
  },
  {
   "cell_type": "markdown",
   "metadata": {},
   "source": [
    "# groupby\n",
    "\n",
    "* we must first sort \n",
    "* Then group into required functions"
   ]
  },
  {
   "cell_type": "code",
   "execution_count": 5,
   "metadata": {},
   "outputs": [
    {
     "name": "stdout",
     "output_type": "stream",
     "text": [
      "vowels = 1 ['cat', 'dog', 'red']\n",
      "vowels = 2 ['mood', 'hood', 'mate']\n",
      "vowels = 3 ['banana']\n"
     ]
    }
   ],
   "source": [
    "from itertools import groupby\n",
    "\n",
    "def count_vowels(word: str):\n",
    "    vowel_count:int = 0\n",
    "\n",
    "    for letter in word:\n",
    "        if letter in 'aeiouAEIOU':\n",
    "            vowel_count += 1\n",
    "\n",
    "    return vowel_count\n",
    "\n",
    "\n",
    "words : list[str] = ['cat', 'dog', 'mood', 'banana', 'red', 'hood', 'mate']\n",
    "sorted_words : list[str] = sorted(words, key = count_vowels)\n",
    "grouped : groupby = groupby(sorted_words, key = count_vowels)\n",
    "\n",
    "for vowels, grouped_words in grouped:\n",
    "    print(f'{vowels = } {list(grouped_words)}')"
   ]
  },
  {
   "cell_type": "code",
   "execution_count": 7,
   "metadata": {},
   "outputs": [
    {
     "name": "stdout",
     "output_type": "stream",
     "text": [
      "length = 1 [[4], [13]]\n",
      "length = 2 [[5, 6], [11, 12]]\n",
      "length = 3 [[1, 2, 3], [14, 15, 16]]\n",
      "length = 4 [[7, 8, 9, 10]]\n"
     ]
    }
   ],
   "source": [
    "from itertools import groupby\n",
    "\n",
    "numbers = [[1,2,3], [4], [5,6], [7,8,9,10], [11, 12], [13], [14, 15, 16]]\n",
    "sorted_numbers = sorted(numbers , key = len)\n",
    "grouping = groupby(sorted_numbers, key= len)\n",
    "\n",
    "for length, group in grouping:\n",
    "    print(f\"{length = } {list(group)}\")"
   ]
  },
  {
   "cell_type": "code",
   "execution_count": 9,
   "metadata": {},
   "outputs": [
    {
     "name": "stdout",
     "output_type": "stream",
     "text": [
      "letter = 'K' ['Karthik']\n",
      "letter = 'M' ['Mahesh', 'Manoj']\n",
      "letter = 'R' ['Rajesh', 'Robert']\n",
      "letter = 'S' ['Shiva', 'Surya']\n"
     ]
    }
   ],
   "source": [
    "from itertools import groupby\n",
    "\n",
    "Names : list[str] = ['Rajesh', 'Shiva', 'Surya', 'Mahesh', 'Robert', 'Manoj', 'Karthik']\n",
    "Grouped_names :groupby = groupby(sorted(Names), key= lambda s : s[0])\n",
    "\n",
    "for letter, Name in Grouped_names:\n",
    "    print(f\"{letter = } {list(Name)}\")"
   ]
  },
  {
   "cell_type": "code",
   "execution_count": 20,
   "metadata": {},
   "outputs": [
    {
     "name": "stdout",
     "output_type": "stream",
     "text": [
      "Chicago [{'name': 'Bob', 'age': 30, 'city': 'Chicago'}, {'name': 'David', 'age': 25, 'city': 'Chicago'}, {'name': 'Homer', 'age': 48, 'city': 'Chicago'}]\n",
      "New York [{'name': 'James', 'age': 25, 'city': 'New York'}, {'name': 'Luigi', 'age': 35, 'city': 'New York'}]\n",
      "Stockholm [{'name': 'Sandra', 'age': 23, 'city': 'Stockholm'}]\n",
      "*************************************************\n"
     ]
    }
   ],
   "source": [
    "from itertools import groupby\n",
    "from operator import itemgetter\n",
    "\n",
    "people : list[dict[str, str | int]] = [\n",
    "    {'name': 'James', 'age' : 25, 'city' : 'New York'},\n",
    "    {'name': 'Bob', 'age' : 30, 'city' : 'Chicago'},\n",
    "    {'name': 'Luigi', 'age' : 35, 'city' : 'New York'},\n",
    "    {'name': 'David', 'age' : 25, 'city' : 'Chicago'},\n",
    "    {'name': 'Sandra', 'age' : 23, 'city' : 'Stockholm'},\n",
    "    {'name': 'Homer', 'age' : 48, 'city' : 'Chicago'}\n",
    "]\n",
    "\n",
    "get_city = itemgetter('city')\n",
    "sorted_people = sorted(people, key = get_city)\n",
    "grouped_people = groupby(sorted_people, key= get_city)\n",
    "\n",
    "for city, person in grouped_people:\n",
    "    print(f'{city :} {list(person)}' )\n",
    "\n",
    "print(\"*************************************************\")\n",
    "\n",
    "for city, person in grouped_people:\n",
    "    print(f'{city :}')\n",
    "    for person in grouped_people:\n",
    "        print(f'  - {person['name']} (Age: {person['age']}) ') \n"
   ]
  },
  {
   "cell_type": "code",
   "execution_count": 21,
   "metadata": {},
   "outputs": [
    {
     "name": "stdout",
     "output_type": "stream",
     "text": [
      "Chicago\n",
      "  - Bob (Age: 30) \n",
      "  - David (Age: 25) \n",
      "  - Homer (Age: 48) \n",
      "New York\n",
      "  - James (Age: 25) \n",
      "  - Luigi (Age: 35) \n",
      "Stockholm\n",
      "  - Sandra (Age: 23) \n"
     ]
    }
   ],
   "source": [
    "from itertools import groupby\n",
    "from operator import itemgetter\n",
    "\n",
    "people : list[dict[str, str | int]] = [\n",
    "    {'name': 'James', 'age' : 25, 'city' : 'New York'},\n",
    "    {'name': 'Bob', 'age' : 30, 'city' : 'Chicago'},\n",
    "    {'name': 'Luigi', 'age' : 35, 'city' : 'New York'},\n",
    "    {'name': 'David', 'age' : 25, 'city' : 'Chicago'},\n",
    "    {'name': 'Sandra', 'age' : 23, 'city' : 'Stockholm'},\n",
    "    {'name': 'Homer', 'age' : 48, 'city' : 'Chicago'}\n",
    "]\n",
    "\n",
    "get_city = itemgetter('city')\n",
    "sorted_people = sorted(people, key = get_city)\n",
    "grouped_people = groupby(sorted_people, key= get_city)\n",
    "\n",
    "for city, person in grouped_people:\n",
    "    print(f'{city :}')\n",
    "    for person in person:\n",
    "        print(f'  - {person['name']} (Age: {person['age']}) ') "
   ]
  },
  {
   "cell_type": "markdown",
   "metadata": {},
   "source": [
    "# Enumerate"
   ]
  },
  {
   "cell_type": "code",
   "execution_count": 29,
   "metadata": {},
   "outputs": [
    {
     "name": "stdout",
     "output_type": "stream",
     "text": [
      "[(0, 'Rajesh'), (1, 'Shiva'), (2, 'Surya'), (3, 'Mahesh'), (4, 'Robert'), (5, 'Manoj'), (6, 'Karthik')]\n"
     ]
    }
   ],
   "source": [
    "students : list[str] = ['Rajesh', 'Shiva', 'Surya', 'Mahesh', 'Robert', 'Manoj', 'Karthik']\n",
    "\n",
    "student_register = enumerate(students)\n",
    "print(list(student_register))"
   ]
  },
  {
   "cell_type": "code",
   "execution_count": 30,
   "metadata": {},
   "outputs": [
    {
     "name": "stdout",
     "output_type": "stream",
     "text": [
      "Roll No - 1 : Rajesh\n",
      "Roll No - 2 : Shiva\n",
      "Roll No - 3 : Surya\n",
      "Roll No - 4 : Mahesh\n",
      "Roll No - 5 : Robert\n",
      "Roll No - 6 : Manoj\n",
      "Roll No - 7 : Karthik\n"
     ]
    }
   ],
   "source": [
    "students : list[str] = ['Rajesh', 'Shiva', 'Surya', 'Mahesh', 'Robert', 'Manoj', 'Karthik']\n",
    "\n",
    "student_register = enumerate(students, start= 1)\n",
    "\n",
    "for ID, name in student_register:\n",
    "    print(f'Roll No - {ID} : {name}')"
   ]
  },
  {
   "cell_type": "code",
   "execution_count": null,
   "metadata": {},
   "outputs": [],
   "source": [
    "print"
   ]
  }
 ],
 "metadata": {
  "kernelspec": {
   "display_name": "Python 3",
   "language": "python",
   "name": "python3"
  },
  "language_info": {
   "codemirror_mode": {
    "name": "ipython",
    "version": 3
   },
   "file_extension": ".py",
   "mimetype": "text/x-python",
   "name": "python",
   "nbconvert_exporter": "python",
   "pygments_lexer": "ipython3",
   "version": "3.12.1"
  }
 },
 "nbformat": 4,
 "nbformat_minor": 2
}
