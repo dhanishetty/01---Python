{
  "cells": [
    {
      "cell_type": "markdown",
      "metadata": {
        "id": "T9kvgl75Mqhk"
      },
      "source": [
        "### Printing without Comma\n"
      ]
    },
    {
      "cell_type": "code",
      "execution_count": null,
      "metadata": {
        "colab": {
          "base_uri": "https://localhost:8080/"
        },
        "id": "iz2F1TQxMvyT",
        "outputId": "81e5074c-4283-4455-a8df-32d935ef9757"
      },
      "outputs": [
        {
          "name": "stdout",
          "output_type": "stream",
          "text": [
            "Andrew Keith Roger Henry Tom Andrew|Keith|Roger|Henry|Tom|Andrew\n",
            "Keith\n",
            "Roger\n",
            "Henry\n",
            "Tom\n"
          ]
        }
      ],
      "source": [
        "x= [\"Andrew\", \"Keith\", \"Roger\", \"Henry\", \"Tom\"]\n",
        "for y in range(len(x)):\n",
        "    print(x[y], end=\" \")\n",
        "for y in range(len(x)):\n",
        "    print(x[y], end=\"|\")\n",
        "for y in range(len(x)):\n",
        "    print(x[y], end=\"\\n\")\n"
      ]
    },
    {
      "cell_type": "markdown",
      "metadata": {},
      "source": [
        "### Printing using unpacking * "
      ]
    },
    {
      "cell_type": "code",
      "execution_count": 2,
      "metadata": {},
      "outputs": [
        {
          "name": "stdout",
          "output_type": "stream",
          "text": [
            "Andrew Keith Roger Henry Tom\n",
            "Andrew, Keith, Roger, Henry, Tom.\n"
          ]
        }
      ],
      "source": [
        "x= [\"Andrew\", \"Keith\", \"Roger\", \"Henry\", \"Tom\"]\n",
        "print(*x)\n",
        "print(*x, sep=', ', end='.\\n')"
      ]
    },
    {
      "cell_type": "markdown",
      "metadata": {
        "id": "m4m4HWpQBH9F"
      },
      "source": [
        "### printing Currency seperator\n"
      ]
    },
    {
      "cell_type": "code",
      "execution_count": null,
      "metadata": {
        "colab": {
          "base_uri": "https://localhost:8080/"
        },
        "id": "u0-kxANE__FI",
        "outputId": "4cb00daf-49d9-44e2-8b05-0d11792bcf57"
      },
      "outputs": [
        {
          "name": "stdout",
          "output_type": "stream",
          "text": [
            "10,000,000\n",
            "10_000_000\n"
          ]
        }
      ],
      "source": [
        "m : int = 10000000\n",
        "print(f\"{m:,}\")\n",
        "print(f\"{m:_}\")"
      ]
    },
    {
      "cell_type": "markdown",
      "metadata": {
        "id": "vX6whGdODiFK"
      },
      "source": [
        "### Text Alignment"
      ]
    },
    {
      "cell_type": "code",
      "execution_count": null,
      "metadata": {
        "colab": {
          "base_uri": "https://localhost:8080/"
        },
        "id": "vyF7LLEIAwJ2",
        "outputId": "73676d12-b405-4d24-a057-160d44ca0b66"
      },
      "outputs": [
        {
          "name": "stdout",
          "output_type": "stream",
          "text": [
            "                  hi\n",
            "                 how\n",
            "                 are\n",
            "                 You\n",
            "                 ???\n",
            "__________________hi\n",
            "_________________how\n",
            "_________________are\n",
            "_________________You\n",
            "_________________???\n",
            "hi++++++++++++++++++\n",
            "how+++++++++++++++++\n",
            "are+++++++++++++++++\n",
            "You+++++++++++++++++\n",
            "???+++++++++++++++++\n",
            "~~~~~~~~~hi~~~~~~~~~\n",
            "~~~~~~~~how~~~~~~~~~\n",
            "~~~~~~~~are~~~~~~~~~\n",
            "~~~~~~~~You~~~~~~~~~\n",
            "~~~~~~~~???~~~~~~~~~\n"
          ]
        }
      ],
      "source": [
        "x : list = [\"hi\", \"how\", \"are\", \"You\", \"???\"]\n",
        "\n",
        "for y in range(len(x)):\n",
        "    print(f\"{x[y]:>20}\")\n",
        "\n",
        "for y in range(len(x)):\n",
        "    print(f\"{x[y]:_>20}\")\n",
        "\n",
        "for y in range(len(x)):\n",
        "    print(f\"{x[y]:+<20}\")\n",
        "\n",
        "for y in  range(len(x)):\n",
        "  print(f\"{x[y]:~^20}\")"
      ]
    },
    {
      "cell_type": "markdown",
      "metadata": {
        "id": "aRFTilsTFVWg"
      },
      "source": [
        "### Playing with Date time formats"
      ]
    },
    {
      "cell_type": "code",
      "execution_count": null,
      "metadata": {
        "colab": {
          "base_uri": "https://localhost:8080/"
        },
        "id": "f27kArxaCUEP",
        "outputId": "4fd73ecc-e921-4693-ed4a-52443ef459b1"
      },
      "outputs": [
        {
          "name": "stdout",
          "output_type": "stream",
          "text": [
            "2025-03-19 01:47:08.931833\n",
            "==========================\n",
            "19.03|25 (01-Hours:47-Mins:08-Seconds)\n"
          ]
        }
      ],
      "source": [
        "from datetime import datetime\n",
        "\n",
        "at_present : datetime = datetime.now()\n",
        "print(at_present)\n",
        "print(\"==========================\")\n",
        "print(f\"{at_present:%d.%m|%y (%H-Hours:%M-Mins:%S-Seconds)}\")"
      ]
    },
    {
      "cell_type": "markdown",
      "metadata": {
        "id": "JLP8dSkYF7KL"
      },
      "source": [
        "### To get time in local area format"
      ]
    },
    {
      "cell_type": "code",
      "execution_count": null,
      "metadata": {
        "colab": {
          "base_uri": "https://localhost:8080/"
        },
        "id": "EthvCxytEFU1",
        "outputId": "32f6ee7d-8db8-4b34-cd53-2952e9a74b23"
      },
      "outputs": [
        {
          "name": "stdout",
          "output_type": "stream",
          "text": [
            "Wed Mar 19 01:47:08 2025\n"
          ]
        }
      ],
      "source": [
        "print(f\"{at_present:%c}\")"
      ]
    },
    {
      "cell_type": "markdown",
      "metadata": {
        "id": "QPauHTYJGk3U"
      },
      "source": [
        "### rounding decimals"
      ]
    },
    {
      "cell_type": "code",
      "execution_count": null,
      "metadata": {
        "colab": {
          "base_uri": "https://localhost:8080/"
        },
        "id": "uyYCHCa1FzNd",
        "outputId": "aaad293e-d079-4fb4-d3c2-d459763d2978"
      },
      "outputs": [
        {
          "name": "stdout",
          "output_type": "stream",
          "text": [
            "3.14\n",
            "3e+00\n"
          ]
        }
      ],
      "source": [
        "pie : float = 3.14159265359\n",
        "print(f\"{pie:.2f}\")\n",
        "print(f\"{pie:.0}\")"
      ]
    },
    {
      "cell_type": "markdown",
      "metadata": {
        "id": "QxfcikufIS15"
      },
      "source": [
        "### Automatic representaions of variables"
      ]
    },
    {
      "cell_type": "code",
      "execution_count": null,
      "metadata": {
        "colab": {
          "base_uri": "https://localhost:8080/"
        },
        "id": "Gkuqs4ZvHUwW",
        "outputId": "1bac91e9-0903-4fdc-85bc-875a967b9030"
      },
      "outputs": [
        {
          "name": "stdout",
          "output_type": "stream",
          "text": [
            "a + b = 15 \n"
          ]
        }
      ],
      "source": [
        "a: int = 5\n",
        "b: int = 10\n",
        "print(f\"{a + b = } \")"
      ]
    },
    {
      "cell_type": "code",
      "execution_count": null,
      "metadata": {
        "colab": {
          "base_uri": "https://localhost:8080/"
        },
        "id": "yAQwVapiIPOO",
        "outputId": "2648cd39-6498-4491-9caf-64871a3bffcc"
      },
      "outputs": [
        {
          "name": "stdout",
          "output_type": "stream",
          "text": [
            "Msg = 'have a good day'\n"
          ]
        }
      ],
      "source": [
        "Msg : str = \"have a good day\"\n",
        "\n",
        "print(f\"{Msg = }\")"
      ]
    },
    {
      "cell_type": "code",
      "execution_count": null,
      "metadata": {
        "id": "mIbqYrzcIoLj"
      },
      "outputs": [],
      "source": []
    }
  ],
  "metadata": {
    "colab": {
      "provenance": []
    },
    "kernelspec": {
      "display_name": "Python 3",
      "name": "python3"
    },
    "language_info": {
      "codemirror_mode": {
        "name": "ipython",
        "version": 3
      },
      "file_extension": ".py",
      "mimetype": "text/x-python",
      "name": "python",
      "nbconvert_exporter": "python",
      "pygments_lexer": "ipython3",
      "version": "3.12.1"
    }
  },
  "nbformat": 4,
  "nbformat_minor": 0
}
