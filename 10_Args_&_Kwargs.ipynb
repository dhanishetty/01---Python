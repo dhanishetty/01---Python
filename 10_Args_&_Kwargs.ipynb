{
  "nbformat": 4,
  "nbformat_minor": 0,
  "metadata": {
    "colab": {
      "provenance": []
    },
    "kernelspec": {
      "name": "python3",
      "display_name": "Python 3"
    },
    "language_info": {
      "name": "python"
    }
  },
  "cells": [
    {
      "cell_type": "markdown",
      "source": [
        "### *Args and **Kwargs"
      ],
      "metadata": {
        "id": "QzSaet3fTXJI"
      }
    },
    {
      "cell_type": "code",
      "source": [
        "def address(*Name, **Adress):\n",
        "  for x in Name:\n",
        "    print(x, end= \" \")\n",
        "  print()\n",
        "  for x, y in Adress.items():\n",
        "    print(x,\"=\", y, end = \"\\n\")"
      ],
      "metadata": {
        "id": "NKsL15wkQtBV"
      },
      "execution_count": null,
      "outputs": []
    },
    {
      "cell_type": "code",
      "source": [
        "address(\"Rajesh\", \"Dhanishetty\", street = \"Bowles cir\", city = \"cary\", State = \"NC\")"
      ],
      "metadata": {
        "colab": {
          "base_uri": "https://localhost:8080/"
        },
        "id": "ekVOQxkSRMne",
        "outputId": "bd05b6bf-23c7-411c-c8f7-f18e32fe4e28"
      },
      "execution_count": null,
      "outputs": [
        {
          "output_type": "stream",
          "name": "stdout",
          "text": [
            "Rajesh Dhanishetty \n",
            "street = Bowles cir\n",
            "city = cary\n",
            "State = NC\n"
          ]
        }
      ]
    },
    {
      "cell_type": "code",
      "source": [],
      "metadata": {
        "id": "cPjkmTMiRjvj"
      },
      "execution_count": null,
      "outputs": []
    }
  ]
}