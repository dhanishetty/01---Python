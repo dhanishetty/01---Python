{
 "cells": [
  {
   "cell_type": "markdown",
   "metadata": {},
   "source": [
    "# Chapter - 1"
   ]
  },
  {
   "cell_type": "markdown",
   "metadata": {},
   "source": [
    "### Valid variable names\n",
    "* `current_balance`\n",
    "* `currentBalance`\n",
    "* `account4`\n",
    "* `_42`\n",
    "* `TOTAL_SUM`\n",
    "* `hello`\n",
    "\n",
    "### Invalid variable names\n",
    "* `current-balance` (hyphens are not allowed)\n",
    "* `current balance` (spaces are not allowed)\n",
    "* `4account` (can’t begin with a number)\n",
    "* `42` (can’t begin with a number)\n",
    "* `TOTAL_$UM` (special characters like $ are not allowed)\n",
    "* `'hello'` (special characters like ' are not allowed)\n"
   ]
  },
  {
   "cell_type": "markdown",
   "metadata": {},
   "source": [
    "### Operator Operation Example Evaluates to…\n",
    "* Exponent ** => `2**3 = 8`\n",
    "* Modulus/remainder % => `22%8 = 6`\n",
    "* Integer division/floored quotient // => `22//8 = 2`\n",
    "* Division / => `22/8 = 2.75`\n",
    "* Multiplication * => `3*5 = 15`\n",
    "* Subtraction - => `5-2 = 3`\n",
    "* Addition + => `2+2 = 4`\n",
    "\n",
    "The ** operator is evaluated first and the *, /, //, and % operators are evaluated next, from left to right. The + and - operators are evaluated last\n",
    "\n",
    "### Expressions compute and return a value based on the given operands and operators.\n",
    "* Arithmetic expression: 5 + 3 * 2\n",
    "* Boolean expression: x > 10 and y < 20\n",
    "* String expression: \"Hello\" + \" World\""
   ]
  },
  {
   "cell_type": "markdown",
   "metadata": {},
   "source": [
    "### Augmented assignment Statement\n",
    "\n",
    "* spam = 36\n",
    "* spam += 1 -> spam = spam + 1\n",
    "* spam -= 1 -> spam = spam - 1\n",
    "* spam *= 1 -> spam = spam * 1\n",
    "* spam /= 1 -> spam = spam / 1\n",
    "* spam %= 1 -> spam = spam % 1"
   ]
  },
  {
   "cell_type": "markdown",
   "metadata": {},
   "source": [
    "### Strings\n",
    "\n",
    "* Strings are immutable. Have to create a new one \n",
    "\n",
    ">>> String Concatenation\n",
    "\n",
    "* 'Alice' + 'Bob' = 'AliceBob'\n",
    "  \n",
    ">>> String Multiplication\n",
    "* 'Alice' * 5 = 'AliceAliceAliceAliceAlice'\n",
    "  \n",
    "\n",
    ">>> String first and last letter\n",
    "\n",
    "<pre>\n",
    "name = \"Pythogaraus\"\n",
    "\n",
    "print(name[0]) -> P\n",
    "print(name[-1]) -> s\n",
    "\n",
    "print(name[0:2]) -> Py\n",
    "print(name[-2]) -> u\n",
    "</pre>\n",
    "\n",
    ">>> finding in strings\n",
    "\n",
    "<pre>\n",
    "name = \"Pythogaraus\"\n",
    "\n",
    "print(\"gar\" in name) -> True\n",
    "print(\"lol\" not in name) -> True\n",
    "print(\"lol\" in name) -> False\n",
    "</pre>\n",
    "\n",
    ">>> Printing letters in string\n",
    "\n",
    "<pre>\n",
    "name = \"Pythogaraus\"\n",
    "\n",
    "for x in name:\n",
    "    print(x) -> \n",
    "P\n",
    "y\n",
    "t\n",
    "h\n",
    "o\n",
    "g\n",
    "a\n",
    "r\n",
    "a\n",
    "u\n",
    "s\n",
    "</pre>"
   ]
  },
  {
   "cell_type": "code",
   "execution_count": 77,
   "metadata": {},
   "outputs": [
    {
     "name": "stdout",
     "output_type": "stream",
     "text": [
      "She sells Cshells by the Cshore\n"
     ]
    }
   ],
   "source": [
    "x = \"She sells seashells by the seashore\"\n",
    "print(x.replace(\"sea\", \"C\"))\n",
    "\n"
   ]
  },
  {
   "cell_type": "code",
   "execution_count": 66,
   "metadata": {},
   "outputs": [
    {
     "name": "stdout",
     "output_type": "stream",
     "text": [
      "['camry', 'accord', 'civic', 'sonata']\n"
     ]
    }
   ],
   "source": [
    "\n",
    "cars = \"camry||accord||civic||sonata\"\n",
    "cars_list = cars.split('||')\n",
    "print(cars_list)\n"
   ]
  },
  {
   "cell_type": "markdown",
   "metadata": {},
   "source": [
    "### Assignment Statements\n",
    "* spam = 40\n",
    "* eggs = 2\n",
    "* spam + eggs = 42\n",
    "\n",
    "You could treat the variables as numbers as they are assigned integeres or floats\n"
   ]
  },
  {
   "cell_type": "markdown",
   "metadata": {},
   "source": [
    "### Variable Names\n",
    "\n",
    "1. It can be only one word.\n",
    "2. It can use only letters, numbers, and the underscore (_) character.\n",
    "3. It can’t begin with a number.\n",
    "\n",
    ">>> Assigning Multiple Variables\n",
    "\n",
    "<pre>\n",
    "size, tail, disposition = 'Skinny', 'long', 'quiet'\n",
    "</pre>\n",
    "\n",
    ">>> Variables swapping\n",
    "\n",
    "<pre>\n",
    "a = 'AAA'\n",
    "b = 'BBB'\n",
    "a,b = b,a\n",
    "print(a) -> BBB\n",
    "print(b) -> AAA\n",
    "</pre>"
   ]
  },
  {
   "cell_type": "markdown",
   "metadata": {},
   "source": [
    "### Converting data types\n",
    "\n",
    "* int(7.77) = 7\n",
    "* float(7) = 7.0\n",
    "* str(7) = '7'\n",
    "\n",
    "### None data type is Nonetype\n",
    "\n",
    "* print function returns None type\n",
    "* Any functions which does not have return statement returns None\n",
    "\n",
    "<pre>\n",
    "spam = print()\n",
    "print(spam == None) -> None\n",
    "</pre>"
   ]
  },
  {
   "cell_type": "markdown",
   "metadata": {},
   "source": [
    "# Chapter-2 Flow Control"
   ]
  },
  {
   "cell_type": "markdown",
   "metadata": {},
   "source": [
    "### Boolean Values\n",
    "* True\n",
    "* False\n",
    "\n",
    "### Membership Operators\n",
    "\n",
    "* in\n",
    "* not in\n",
    "\n",
    "### Boolean Operators\n",
    "\n",
    "* and\n",
    "* or\n",
    "* not\n",
    "\n",
    "### Comparison Operators\n",
    "\n",
    "1. `==` Equal to\n",
    "2. `!=` Not equal to\n",
    "3. `<` Less than\n",
    "4. `>` Greater than\n",
    "5. `<=` Less than or equal to\n",
    "6. `>=` Greater than or equal to\n",
    "\n",
    "### The `not` Operator\n",
    "\n",
    "1. `not` True = False\n",
    "\n"
   ]
  },
  {
   "cell_type": "code",
   "execution_count": 61,
   "metadata": {},
   "outputs": [
    {
     "name": "stdout",
     "output_type": "stream",
     "text": [
      "True\n",
      "True \n",
      "\n",
      "True\n",
      "True \n",
      "\n",
      "True\n",
      "True \n",
      "\n",
      "True\n",
      "False\n",
      "True\n"
     ]
    }
   ],
   "source": [
    "# 1. List\n",
    "\n",
    "names = [\"Alice\", \"Bob\", \"Charlie\"]\n",
    "print(\"Bob\" in names)       # True\n",
    "print(\"Eve\" not in names, '\\n')   # True\n",
    "\n",
    "# 2. Tuple\n",
    "\n",
    "nums = (1, 2, 3)\n",
    "print(2 in nums)            # True\n",
    "print(5 not in nums, '\\n')        # True\n",
    "\n",
    "# 3. String\n",
    "\n",
    "text = \"hello world\"\n",
    "print(\"hello\" in text)      # True\n",
    "print(\"bye\" not in text, '\\n')    #True\n",
    "\n",
    "\n",
    "# 4. Dictionary\n",
    "\n",
    "data = {\"a\": 1, \"b\": 2}\n",
    "print(\"a\" in data)          # True (checks **keys**, not values)\n",
    "print(2 in data)            # False\n",
    "print(2 in data.values())   # True (explicitly check values)\n",
    "\n"
   ]
  },
  {
   "cell_type": "markdown",
   "metadata": {},
   "source": [
    "## Flow Control Statements"
   ]
  },
  {
   "cell_type": "markdown",
   "metadata": {},
   "source": [
    "### If-elif\n",
    "\n",
    "<pre>\n",
    "if name == 'Alice':<br>\n",
    "    print('Hi, Alice.')<br>\n",
    "elif age < 12:<br>\n",
    "    print('You are not Alice, kiddo.')<br>\n",
    "else:<br>\n",
    "    print('You are neither Alice nor a little kid.')<br>\n",
    "\n",
    "</pre>"
   ]
  },
  {
   "cell_type": "markdown",
   "metadata": {},
   "source": [
    "### `While` Loop - execute block of code over and over again - executes code as long as condition is True \n",
    "\n",
    "<pre>\n",
    "name = ''\n",
    "while name != 'your name':\n",
    "    print('Please type your name.')\n",
    "    name = input()\n",
    "print('Thank you!')\n",
    "</pre>\n",
    "\n",
    "* The code runs till you enter 'your name'\n"
   ]
  },
  {
   "cell_type": "markdown",
   "metadata": {},
   "source": [
    "### `break` Statements - it helps getting the program execution to break out of a while loop’s clause early.\n",
    "* The first line creates infinite loops (while True:)\n",
    "\n",
    "<pre>\n",
    "while True:\n",
    "    print('Please type your name.')\n",
    "    name = input()\n",
    "    if name == 'your name':\n",
    "        break\n",
    "print('Thank you!')\n",
    "</pre>\n",
    "\n",
    "\n"
   ]
  },
  {
   "cell_type": "markdown",
   "metadata": {},
   "source": [
    "### `continue` Statements - It skips back to start of the loop\n",
    "\n",
    "<pre>\n",
    "while True:\n",
    "    print('Who are you?')\n",
    "    name = input()\n",
    "    if name != 'Joe':\n",
    "        continue\n",
    "    print('Hello, Joe. What is the password? (It is a fish.)')\n",
    "    password = input()\n",
    "    if password == 'swordfish':\n",
    "        break\n",
    "print('Access granted.')\n",
    "</pre>\n"
   ]
  },
  {
   "cell_type": "markdown",
   "metadata": {},
   "source": [
    "### falsey Values\n",
    "\n",
    "* When used in conditions, 0, 0.0, and '' (the empty string) are considered False, while all other values are considered True.\n",
    "\n",
    "<pre>\n",
    "name = ''\n",
    "while not name:\n",
    "    print('Enter your name:')\n",
    "    name = input()\n",
    "print('How many guests will you have?')\n",
    "numOfGuests = int(input())\n",
    "if numOfGuests:\n",
    "    print('Be sure to have enough room for all your guests.')\n",
    "print('Done')\n",
    "</pre>"
   ]
  },
  {
   "cell_type": "markdown",
   "metadata": {},
   "source": [
    "### For loop - could use 'break' and 'continue' statements as well\n",
    "\n",
    ">>> For Loop with Range function\n",
    "* for i in range(5):\n",
    "\n",
    "### The Starting, Stopping, and Stepping Arguments to range()\n",
    "\n",
    "* the below output is 12,13,14,15\n",
    "<pre>\n",
    "for i in range(12, 16):\n",
    "    print(i)\n",
    "</pre>\n",
    "\n",
    "<pre>\n",
    "for i in range(0, 10, 2):\n",
    "    print(i)\n",
    "</pre>\n",
    "\n",
    "<pre>\n",
    "for i in range(5, -1, -1):\n",
    "    print(i)\n",
    "</pre>\n",
    "\n",
    "\n",
    "\n"
   ]
  },
  {
   "cell_type": "markdown",
   "metadata": {},
   "source": [
    "### To get a random number for loops\n",
    "\n",
    "<pre>\n",
    "import random\n",
    "\n",
    "print(random.randint(1, 18))\n",
    "</pre>"
   ]
  },
  {
   "cell_type": "markdown",
   "metadata": {},
   "source": [
    "### round() if there is 0.5 it gives closest even number and abs() - just removes negative\n",
    "\n",
    "* print(round(3.14159, 2)) -> 3.14\n",
    "* print(round(3.14159)) -> 3\n",
    "* print(round(2.5)) -> 2\n",
    "* print(round(3.5)) -> 4\n",
    "* print(abs(-9.55)) -> 9.55"
   ]
  },
  {
   "cell_type": "markdown",
   "metadata": {},
   "source": [
    "### sys.exit() - used to terminate the program.\n",
    "\n",
    "<pre>\n",
    "import sys\n",
    "\n",
    "while True:\n",
    "    print('Type exit to exit.')\n",
    "    response = input()\n",
    "    if response == 'exit':\n",
    "        sys.exit()\n",
    "    print('You typed ' + response + '.')\n",
    "</pre>"
   ]
  },
  {
   "cell_type": "markdown",
   "metadata": {},
   "source": [
    "# Chapter 3 - Functions\n"
   ]
  },
  {
   "cell_type": "markdown",
   "metadata": {},
   "source": [
    "### The None value\n",
    "\n",
    "* 'None' represents the absence of a value.\n",
    "*  None is the only value of the NoneType data type.\n",
    "*  spam = print('Hello!') -> Hello!\n",
    "*  None == spam -> True"
   ]
  },
  {
   "cell_type": "markdown",
   "metadata": {},
   "source": [
    "***************************\n",
    "### Print Functions end & sep\n",
    "\n",
    "* `print(\"Hello\", end = \"\")`\n",
    "* `print(\"World\")` =>  will print two words in one line  -> Hello World\n",
    "  \n",
    "\n",
    "\n",
    "* `print(\"cat\", \"dog\", \"pig\" , sep = \" || \" )` => cat || dog || pig\n",
    "\n",
    "**************************************\n",
    "\n"
   ]
  },
  {
   "cell_type": "markdown",
   "metadata": {},
   "source": [
    "### Local Variables & Global variables\n",
    "\n",
    "* You could declare Global variables from functions \n",
    "<pre>\n",
    "def spam():\n",
    "    global eggs\n",
    "    eggs = 'spam'\n",
    "eggs = 'global'\n",
    "spam()\n",
    "print(eggs)\n",
    "</pre>\n",
    "\n",
    ">>> Output will be \"spam\" as the function was called in the last"
   ]
  },
  {
   "cell_type": "code",
   "execution_count": 2,
   "metadata": {},
   "outputs": [
    {
     "name": "stdout",
     "output_type": "stream",
     "text": [
      "42\n",
      "spam\n"
     ]
    }
   ],
   "source": [
    "def spam():\n",
    "  global eggs\n",
    "  eggs = 'spam' # this is the global\n",
    "\n",
    "def bacon():\n",
    "  eggs = 'bacon' # this is a local\n",
    "\n",
    "def ham():\n",
    "  print(eggs) # this is the global\n",
    "\n",
    "eggs = 42 # this is the global\n",
    "print(eggs)\n",
    "spam()\n",
    "print(eggs)"
   ]
  },
  {
   "cell_type": "markdown",
   "metadata": {},
   "source": [
    "### Exception Handling - program to detect errors, handle them, and then continue to run.\n",
    "\n",
    "* use `try:` when the 'try:' fails use `except`\n",
    "* The `raise` keyword is used to trigger an exception intentionally.\n",
    "* we could handle different errors different ways\n",
    "  \n",
    "\n",
    "\n",
    ">>> `raise` - Intentional exception\n",
    "\n",
    "* When `raise` is executed, it stops the current function's execution and passes the exception up to the calling code. If not caught by a try-except block, it will eventually terminate the program.\n",
    "* You can `raise` built-in exceptions (like `ValueError`, `TypeError`, etc.) or your own custom exceptions to indicate specific error conditions. For example:\n",
    "\n",
    "<pre>\n",
    "raise ValueError(\"Invalid input\")\n",
    "\n",
    "</pre>\n",
    "\n",
    "\n"
   ]
  },
  {
   "cell_type": "code",
   "execution_count": 4,
   "metadata": {},
   "outputs": [
    {
     "name": "stdout",
     "output_type": "stream",
     "text": [
      "21.0\n",
      "3.5\n",
      "Error: Invalid argument.\n",
      "None\n",
      "42.0\n",
      "Error: unsupported operand type(s) for /: int and str\n",
      "None\n"
     ]
    }
   ],
   "source": [
    "def spam(divideBy):\n",
    "    try:\n",
    "        return 42 / divideBy\n",
    "    except ZeroDivisionError:\n",
    "        print('Error: Invalid argument.')\n",
    "    except TypeError:\n",
    "        print('Error: unsupported operand type(s) for /: int and str')\n",
    "\n",
    "print(spam(2)) # -> 21.0\n",
    "print(spam(12)) # -> 3.5\n",
    "print(spam(0)) # -> Error: You tried to divide by 0\n",
    "print(spam(1)) # -> 42.0\n",
    "print(spam('hello')) # -> unknown error"
   ]
  },
  {
   "cell_type": "markdown",
   "metadata": {},
   "source": [
    "# Chapter 4 - Lists & Tuples\n",
    "\n",
    "* Lists are Mutable i.e.., items can be added, removed or changed\n",
    "* Lists values are not completely copied to a variable they are just referenced i.e., if a list is copied to another variable and the child variable is modified then parent variable list is also modified. \n",
    "* Can access the values using its index\n",
    "* Values inside the list are also called items. Items are separated with commas.\n",
    "* Could have different data types in single list"
   ]
  },
  {
   "cell_type": "code",
   "execution_count": 5,
   "metadata": {},
   "outputs": [],
   "source": [
    "spam = ['hello', 3.1415, True, None, 42]"
   ]
  },
  {
   "cell_type": "code",
   "execution_count": 6,
   "metadata": {},
   "outputs": [
    {
     "data": {
      "text/plain": [
       "'The bat ate the cat.'"
      ]
     },
     "execution_count": 6,
     "metadata": {},
     "output_type": "execute_result"
    }
   ],
   "source": [
    "spam = ['cat', 'bat', 'rat', 'elephant']\n",
    "spam[0] # => 'cat'\n",
    "spam[1] # => 'bat'\n",
    "\n",
    "['cat', 'bat', 'rat', 'elephant'][3] #=> 'elephant'\n",
    "\n",
    "'Hello, ' + spam[0] # => 'Hello, cat'\n",
    "'The ' + spam[1] + ' ate the ' + spam[0] + '.' #=> 'The bat ate the cat.'"
   ]
  },
  {
   "cell_type": "markdown",
   "metadata": {},
   "source": [
    "***********\n",
    "### Negative Index "
   ]
  },
  {
   "cell_type": "code",
   "execution_count": 8,
   "metadata": {},
   "outputs": [
    {
     "name": "stdout",
     "output_type": "stream",
     "text": [
      "elephant\n"
     ]
    },
    {
     "data": {
      "text/plain": [
       "'The elephant is afraid of the bat.'"
      ]
     },
     "execution_count": 8,
     "metadata": {},
     "output_type": "execute_result"
    }
   ],
   "source": [
    "spam = ['cat', 'bat', 'rat', 'elephant']\n",
    "print(spam[-1])\n",
    "'The ' + spam[-1] + ' is afraid of the ' + spam[-3] + '.'\n"
   ]
  },
  {
   "cell_type": "markdown",
   "metadata": {},
   "source": [
    "***************\n",
    "### Slicing - Getting a List from Another List"
   ]
  },
  {
   "cell_type": "code",
   "execution_count": 11,
   "metadata": {},
   "outputs": [
    {
     "name": "stdout",
     "output_type": "stream",
     "text": [
      "['cat', 'bat', 'rat', 'elephant']\n",
      "['bat', 'rat']\n",
      "['cat', 'bat', 'rat']\n",
      "\n",
      "\n",
      "['cat', 'bat']\n",
      "['bat', 'rat', 'elephant']\n",
      "['cat', 'bat', 'rat', 'elephant']\n"
     ]
    }
   ],
   "source": [
    "spam = ['cat', 'bat', 'rat', 'elephant']\n",
    "print(spam[0:4])\n",
    "\n",
    "print(spam[1:3])\n",
    "\n",
    "print(spam[0:-1])\n",
    "\n",
    "print(\"\\n\")\n",
    "\n",
    "print(spam[:2])\n",
    "\n",
    "print(spam[1:])\n",
    "\n",
    "print(spam[:])"
   ]
  },
  {
   "cell_type": "markdown",
   "metadata": {},
   "source": [
    "************\n",
    "### List’s Length with the len()"
   ]
  },
  {
   "cell_type": "code",
   "execution_count": 12,
   "metadata": {},
   "outputs": [
    {
     "data": {
      "text/plain": [
       "3"
      ]
     },
     "execution_count": 12,
     "metadata": {},
     "output_type": "execute_result"
    }
   ],
   "source": [
    "spam = ['cat', 'dog', 'moose']\n",
    "len(spam)"
   ]
  },
  {
   "cell_type": "markdown",
   "metadata": {},
   "source": [
    "**************\n",
    "### Changing Values in a List with Indexes"
   ]
  },
  {
   "cell_type": "code",
   "execution_count": 13,
   "metadata": {},
   "outputs": [
    {
     "name": "stdout",
     "output_type": "stream",
     "text": [
      "['cat', 'aardvark', 'rat', 'elephant'] \n",
      "\n",
      "['cat', 'aardvark', 'aardvark', 'elephant'] \n",
      "\n",
      "['cat', 'aardvark', 'aardvark', 12345]\n"
     ]
    }
   ],
   "source": [
    "spam = ['cat', 'bat', 'rat', 'elephant']\n",
    "spam[1] = 'aardvark'\n",
    "print(spam, '\\n')\n",
    "\n",
    "spam[2] = spam[1]\n",
    "print(spam, '\\n')\n",
    "\n",
    "spam[-1] = 12345\n",
    "print(spam)"
   ]
  },
  {
   "cell_type": "markdown",
   "metadata": {},
   "source": [
    "*************\n",
    "### List Concatenation and List Replication\n",
    "\n",
    "* The + operator combines two lists to create a new list value and the * operator can be used with a list"
   ]
  },
  {
   "cell_type": "code",
   "execution_count": 22,
   "metadata": {},
   "outputs": [
    {
     "name": "stdout",
     "output_type": "stream",
     "text": [
      "['cat', 'bat', 'rat'] \n",
      "\n",
      "['cat', 'bat', 'rat', 'elephant']\n",
      "\n",
      " [1, 2, 3, 'A', 'B', 'C'] \n",
      "\n",
      "['X', 'Y', 'Z', 'X', 'Y', 'Z', 'X', 'Y', 'Z'] \n",
      "\n",
      "[1, 2, 3, 'A', 'B', 'C']\n"
     ]
    }
   ],
   "source": [
    "spam = ['cat', 'bat', 'rat']\n",
    "print(spam, '\\n')\n",
    "spam = spam + ['elephant']\n",
    "print(spam)\n",
    "print('\\n', [1, 2, 3] + ['A', 'B', 'C'], '\\n')\n",
    "\n",
    "print(['X', 'Y', 'Z'] * 3, '\\n')\n",
    "\n",
    "spam = [1, 2, 3]\n",
    "spam = spam + ['A', 'B', 'C']\n",
    "\n",
    "print(spam)"
   ]
  },
  {
   "cell_type": "markdown",
   "metadata": {},
   "source": [
    "**********\n",
    "### Removing Values"
   ]
  },
  {
   "cell_type": "code",
   "execution_count": 20,
   "metadata": {},
   "outputs": [
    {
     "name": "stdout",
     "output_type": "stream",
     "text": [
      "['cat', 'bat', 'rat', 'elephant'] \n",
      "\n",
      "['cat', 'bat', 'elephant'] \n",
      "\n",
      "['cat', 'bat']\n"
     ]
    }
   ],
   "source": [
    "spam = ['cat', 'bat', 'rat', 'elephant']\n",
    "print(spam, '\\n')\n",
    "\n",
    "del spam[2]\n",
    "\n",
    "print(spam, '\\n')\n",
    "\n",
    "del spam[2]\n",
    "\n",
    "print(spam)\n"
   ]
  },
  {
   "cell_type": "markdown",
   "metadata": {},
   "source": [
    "********\n",
    "### `for`  loop with Lists"
   ]
  },
  {
   "cell_type": "code",
   "execution_count": 25,
   "metadata": {},
   "outputs": [
    {
     "name": "stdout",
     "output_type": "stream",
     "text": [
      "0\n",
      "1\n",
      "2\n",
      "3\n",
      "\n",
      "\n",
      "Index 0 in supplies is: pens\n",
      "Index 1 in supplies is: staplers\n",
      "Index 2 in supplies is: flamethrowers\n",
      "Index 3 in supplies is: binders\n"
     ]
    }
   ],
   "source": [
    "for i in [0, 1, 2, 3]:\n",
    "    print(i)\n",
    "\n",
    "print('\\n')\n",
    "\n",
    "supplies = ['pens', 'staplers', 'flamethrowers', 'binders']\n",
    "for i in range(len(supplies)):\n",
    "     print('Index ' + str(i) + ' in supplies is: ' + supplies[i])\n"
   ]
  },
  {
   "cell_type": "markdown",
   "metadata": {},
   "source": [
    "************\n",
    "The `in` and `not in` Operators"
   ]
  },
  {
   "cell_type": "code",
   "execution_count": 28,
   "metadata": {},
   "outputs": [
    {
     "name": "stdout",
     "output_type": "stream",
     "text": [
      "True \n",
      "\n",
      "False \n",
      "\n",
      "False\n"
     ]
    }
   ],
   "source": [
    "print('howdy' in ['hello', 'hi', 'howdy', 'heyas'], '\\n')\n",
    "\n",
    "spam = ['hello', 'hi', 'howdy', 'heyas']\n",
    "\n",
    "print('cat' in spam, '\\n')\n",
    "\n",
    "print('howdy' not in spam)"
   ]
  },
  {
   "cell_type": "markdown",
   "metadata": {},
   "source": [
    "*************\n",
    "### The Multiple Assignment "
   ]
  },
  {
   "cell_type": "code",
   "execution_count": 30,
   "metadata": {},
   "outputs": [],
   "source": [
    "cat = ['fat', 'gray', 'loud']\n",
    "\n",
    "size = cat[0]\n",
    "\n",
    "#OR\n",
    "\n",
    "size, color, disposition = cat"
   ]
  },
  {
   "cell_type": "code",
   "execution_count": 42,
   "metadata": {},
   "outputs": [
    {
     "name": "stdout",
     "output_type": "stream",
     "text": [
      "[0, 2, 4, 6, 8]\n"
     ]
    }
   ],
   "source": [
    "x = list(range(0,10,2))\n",
    "print(x) "
   ]
  },
  {
   "cell_type": "markdown",
   "metadata": {},
   "source": [
    "**********\n",
    "### enumerate() Function with Lists"
   ]
  },
  {
   "cell_type": "code",
   "execution_count": 34,
   "metadata": {},
   "outputs": [
    {
     "name": "stdout",
     "output_type": "stream",
     "text": [
      "0 - pens\n",
      "1 - staplers\n",
      "2 - flamethrowers\n",
      "3 - binders\n"
     ]
    }
   ],
   "source": [
    "supplies = ['pens', 'staplers', 'flamethrowers', 'binders']\n",
    "for index, item in enumerate(supplies):\n",
    "     print(index ,'-', item)"
   ]
  },
  {
   "cell_type": "markdown",
   "metadata": {},
   "source": [
    "**************\n",
    "### random.choice()"
   ]
  },
  {
   "cell_type": "code",
   "execution_count": 35,
   "metadata": {},
   "outputs": [
    {
     "data": {
      "text/plain": [
       "'Moose'"
      ]
     },
     "execution_count": 35,
     "metadata": {},
     "output_type": "execute_result"
    }
   ],
   "source": [
    "import random\n",
    "pets = ['Dog', 'Cat', 'Moose']\n",
    "random.choice(pets)"
   ]
  },
  {
   "cell_type": "markdown",
   "metadata": {},
   "source": [
    "***********\n",
    "### random.shuffle() Functions\n",
    "\n",
    "* modifies the list in place, rather than returning a new list."
   ]
  },
  {
   "cell_type": "code",
   "execution_count": 39,
   "metadata": {},
   "outputs": [
    {
     "name": "stdout",
     "output_type": "stream",
     "text": [
      "['Alice', 'Bob', 'Carol', 'David']\n",
      "['Carol', 'Alice', 'Bob', 'David']\n"
     ]
    }
   ],
   "source": [
    "import random\n",
    "people = ['Alice', 'Bob', 'Carol', 'David']\n",
    "print(people)\n",
    "random.shuffle(people)\n",
    "print(people)"
   ]
  },
  {
   "cell_type": "markdown",
   "metadata": {},
   "source": [
    "**********\n",
    "### Finding a Value in a List with the index() Method"
   ]
  },
  {
   "cell_type": "code",
   "execution_count": 40,
   "metadata": {},
   "outputs": [
    {
     "name": "stdout",
     "output_type": "stream",
     "text": [
      "0\n",
      "3\n"
     ]
    }
   ],
   "source": [
    "spam = ['hello', 'hi', 'howdy', 'heyas']\n",
    "print(spam.index('hello'))\n",
    "print(spam.index('heyas'))"
   ]
  },
  {
   "cell_type": "markdown",
   "metadata": {},
   "source": [
    "***********\n",
    "### append() and insert() Methods"
   ]
  },
  {
   "cell_type": "code",
   "execution_count": 44,
   "metadata": {},
   "outputs": [
    {
     "name": "stdout",
     "output_type": "stream",
     "text": [
      "['cat', 'dog', 'bat']\n"
     ]
    },
    {
     "data": {
      "text/plain": [
       "['cat', 'dog', 'bat', 'moose']"
      ]
     },
     "execution_count": 44,
     "metadata": {},
     "output_type": "execute_result"
    }
   ],
   "source": [
    "spam = ['cat', 'dog', 'bat']\n",
    "print(spam)\n",
    "spam.append('moose')\n",
    "spam"
   ]
  },
  {
   "cell_type": "code",
   "execution_count": 45,
   "metadata": {},
   "outputs": [
    {
     "name": "stdout",
     "output_type": "stream",
     "text": [
      "['Hello', 'Hi', 'Heyas', 'Howdy', 'Holla']\n",
      "['Hello', 'Namaste', 'Hi', 'Heyas', 'Howdy', 'Holla']\n"
     ]
    }
   ],
   "source": [
    "spam = ['Hello', 'Hi', 'Heyas', 'Howdy', 'Holla']\n",
    "print(spam)\n",
    "spam.insert(1, 'Namaste')\n",
    "print(spam) "
   ]
  },
  {
   "cell_type": "markdown",
   "metadata": {},
   "source": [
    "**********\n",
    "### Remove Method .Remove('item')\n",
    "* if item is in multiple positions just first one\n"
   ]
  },
  {
   "cell_type": "code",
   "execution_count": 47,
   "metadata": {},
   "outputs": [
    {
     "name": "stdout",
     "output_type": "stream",
     "text": [
      "['Hello', 'Namaste', 'Hi', 'Heyas', 'Howdy', 'Holla', 'Heyas']\n",
      "['Hello', 'Namaste', 'Hi', 'Howdy', 'Holla', 'Heyas']\n"
     ]
    }
   ],
   "source": [
    "spam = ['Hello', 'Namaste', 'Hi', 'Heyas', 'Howdy', 'Holla', 'Heyas']\n",
    "print(spam) \n",
    "spam.remove('Heyas')\n",
    "print(spam) "
   ]
  },
  {
   "cell_type": "markdown",
   "metadata": {},
   "source": [
    "***********\n",
    "### sort Method .sort() \n",
    "* sort() uses “ASCIIbetical order” rather than actual alphabetical order"
   ]
  },
  {
   "cell_type": "code",
   "execution_count": 49,
   "metadata": {},
   "outputs": [
    {
     "name": "stdout",
     "output_type": "stream",
     "text": [
      "[2, 5, 3.14, 1, -7]\n",
      "[-7, 1, 2, 3.14, 5]\n",
      "[5, 3.14, 2, 1, -7]\n"
     ]
    }
   ],
   "source": [
    "spam = [2, 5, 3.14, 1, -7]\n",
    "print(spam)\n",
    "spam.sort()\n",
    "print(spam)\n",
    "spam.sort(reverse=True)\n",
    "print(spam)\n"
   ]
  },
  {
   "cell_type": "code",
   "execution_count": 50,
   "metadata": {},
   "outputs": [
    {
     "name": "stdout",
     "output_type": "stream",
     "text": [
      "['Alice', 'Bob', 'Carol', 'ants', 'badgers', 'cats']\n",
      "['Alice', 'ants', 'badgers', 'Bob', 'Carol', 'cats']\n"
     ]
    }
   ],
   "source": [
    "spam = ['Alice', 'ants', 'Bob', 'badgers', 'Carol', 'cats']\n",
    "spam.sort()\n",
    "print(spam)\n",
    "spam.sort(key=str.lower)\n",
    "print(spam)"
   ]
  },
  {
   "cell_type": "markdown",
   "metadata": {},
   "source": [
    "*********\n",
    "### Reverse sort Method"
   ]
  },
  {
   "cell_type": "code",
   "execution_count": 51,
   "metadata": {},
   "outputs": [
    {
     "data": {
      "text/plain": [
       "['moose', 'dog', 'cat']"
      ]
     },
     "execution_count": 51,
     "metadata": {},
     "output_type": "execute_result"
    }
   ],
   "source": [
    "spam = ['cat', 'dog', 'moose']\n",
    "spam.reverse()\n",
    "spam"
   ]
  },
  {
   "cell_type": "markdown",
   "metadata": {},
   "source": [
    "************\n",
    "## Tuple\n",
    "*************\n",
    "\n",
    "* Tuples cannot have their values modified, appended, or removed.\n",
    "* you can create a new tuple by combining the original with the new item."
   ]
  },
  {
   "cell_type": "code",
   "execution_count": 53,
   "metadata": {},
   "outputs": [
    {
     "name": "stdout",
     "output_type": "stream",
     "text": [
      "(1, 2, 3, 4)\n"
     ]
    }
   ],
   "source": [
    "t = (1, 2, 3)\n",
    "t = t + (4,)  # Note the comma!\n",
    "print(t)"
   ]
  },
  {
   "cell_type": "code",
   "execution_count": 54,
   "metadata": {},
   "outputs": [
    {
     "name": "stdout",
     "output_type": "stream",
     "text": [
      "(1, 2, 3, 4)\n"
     ]
    }
   ],
   "source": [
    "t = (1, 2)\n",
    "t += (3, 4)\n",
    "print(t)"
   ]
  },
  {
   "cell_type": "markdown",
   "metadata": {},
   "source": [
    "**********\n",
    "### Accessing Tuple data"
   ]
  },
  {
   "cell_type": "code",
   "execution_count": 52,
   "metadata": {},
   "outputs": [
    {
     "name": "stdout",
     "output_type": "stream",
     "text": [
      "hello\n",
      "(42, 0.5)\n",
      "3\n"
     ]
    }
   ],
   "source": [
    "eggs = ('hello', 42, 0.5)\n",
    "print(eggs[0])\n",
    "\n",
    "print(eggs[1:3])\n",
    "\n",
    "print(len(eggs))"
   ]
  },
  {
   "cell_type": "markdown",
   "metadata": {},
   "source": [
    "***\n",
    "### Converting Types with the list() and tuple() Functions"
   ]
  },
  {
   "cell_type": "code",
   "execution_count": 56,
   "metadata": {},
   "outputs": [
    {
     "name": "stdout",
     "output_type": "stream",
     "text": [
      "('cat', 'dog', 5) \n",
      "\n",
      "['cat', 'dog', 5] \n",
      "\n",
      "['h', 'e', 'l', 'l', 'o']\n"
     ]
    }
   ],
   "source": [
    "print(tuple(['cat', 'dog', 5]), '\\n')\n",
    "\n",
    "print(list(('cat', 'dog', 5)), '\\n')\n",
    "\n",
    "print(list('hello'))"
   ]
  },
  {
   "cell_type": "markdown",
   "metadata": {},
   "source": [
    "**********\n",
    "### copy Module’s copy() and deepcopy() Functions\n",
    "\n",
    "* If the list you need to copy contains lists, then use the `copy.deepcopy()` function instead of `copy.copy()`. The `deepcopy()` function will copy these inner lists as well."
   ]
  },
  {
   "cell_type": "code",
   "execution_count": 57,
   "metadata": {},
   "outputs": [
    {
     "name": "stdout",
     "output_type": "stream",
     "text": [
      "id = 2516423961600\n",
      "id 2516423963584\n",
      "['A', 'B', 'C', 'D']\n",
      "['A', 42, 'C', 'D']\n"
     ]
    }
   ],
   "source": [
    "import copy\n",
    "spam = ['A', 'B', 'C', 'D']\n",
    "print(\"id =\", id(spam))\n",
    "\n",
    "cheese = copy.copy(spam)\n",
    "print('id', id(cheese)) # cheese is a different list with different identity.\n",
    "\n",
    "cheese[1] = 42\n",
    "print(spam)\n",
    "\n",
    "print(cheese)"
   ]
  },
  {
   "cell_type": "markdown",
   "metadata": {},
   "source": [
    "# Chapter 5 - DICTIONARIES AND STRUCTURING DATA\n",
    "\n",
    "- Dictionaries contain key-value pairs. Keys are like a list's indexes.\n",
    "- Dictionaries are mutable. Variables hold references to dictionary values, not the dictionary value itself.\n",
    "- Dictionaries are unordered. There is no \"first\" key-value pair in a dictionary.\n",
    "- The keys(), values(), and items() methods will return list-like values of a dictionary's keys, values, and both keys and values, respectively.\n",
    "- The get() method can return a default value if a key doesn't exist.\n",
    "- The setdefault() method can set a value if a key doesn't exist.\n",
    "- The pprint module's pprint() \"pretty print\" function can display a dictionary value cleanly. The pformat() function returns a string value of this output."
   ]
  },
  {
   "cell_type": "markdown",
   "metadata": {},
   "source": [
    "**********\n",
    "### Accessing dictionaries "
   ]
  },
  {
   "cell_type": "code",
   "execution_count": 11,
   "metadata": {},
   "outputs": [
    {
     "name": "stdout",
     "output_type": "stream",
     "text": [
      "{'Make': 'Toyota', 'Model': 'Camry', 'Color': 'Silver'}\n",
      "*********************************\n",
      "['Make', 'Model', 'Color']\n",
      "['Toyota', 'Camry', 'Silver']\n",
      "[('Make', 'Toyota'), ('Model', 'Camry'), ('Color', 'Silver')]\n",
      "*********************************\n",
      "Make ==> Toyota\n",
      "Model ==> Camry\n",
      "Color ==> Silver\n",
      "*********************************\n",
      "('Make', 'Toyota')\n",
      "('Model', 'Camry')\n",
      "('Color', 'Silver')\n"
     ]
    }
   ],
   "source": [
    "Car = {'Make' : 'Toyota','Model' : 'Camry', 'Color':'Silver'}\n",
    "print(Car)\n",
    "print('*********************************')\n",
    "print(list(Car.keys()))\n",
    "print(list(Car.values()))\n",
    "print(list(Car.items()))\n",
    "print('*********************************')\n",
    "for k, v in Car.items():\n",
    "    print(k,'==>',v)\n",
    "print('*********************************')\n",
    "for x in Car.items():\n",
    "    print(x)"
   ]
  },
  {
   "cell_type": "markdown",
   "metadata": {},
   "source": [
    "**************\n",
    "### Checking Whether a Key or Value Exists in a Dictionary using `in` and `not in`"
   ]
  },
  {
   "cell_type": "code",
   "execution_count": 16,
   "metadata": {},
   "outputs": [
    {
     "name": "stdout",
     "output_type": "stream",
     "text": [
      "False\n",
      "True\n",
      "False\n",
      "True\n"
     ]
    }
   ],
   "source": [
    "Car = {'Make' : 'Toyota','Model' : 'Camry', 'Color':'Silver'}\n",
    "\n",
    "print('Price' in Car.keys())\n",
    "print('Price' not in Car.keys())\n",
    "print('Honda' in Car.values())\n",
    "print(('Make', 'Toyota') in Car.items())\n"
   ]
  },
  {
   "cell_type": "markdown",
   "metadata": {},
   "source": [
    "**************\n",
    "### `get()` method\n",
    "\n",
    "* `get()` method takes two arguments: the key of the value to retrieve and a fallback value to return if that key does not exist."
   ]
  },
  {
   "cell_type": "code",
   "execution_count": 27,
   "metadata": {},
   "outputs": [
    {
     "name": "stdout",
     "output_type": "stream",
     "text": [
      "dict_items([('Make', 'Toyota'), ('Model', 'Camry'), ('Color', 'Silver')])\n",
      "The price of the Car is $ 30000\n",
      "The price of the Car is $ 30000\n",
      "dict_items([('Make', 'Toyota'), ('Model', 'Camry'), ('Color', 'Silver')])\n"
     ]
    }
   ],
   "source": [
    "Car = {'Make' : 'Toyota','Model' : 'Camry', 'Color':'Silver'}\n",
    "base_price = 30000\n",
    "print(Car.items())\n",
    "\n",
    "if 'Price' in Car.keys():\n",
    "    print(\"The price of the Car is $\", Car['Price'])\n",
    "else :\n",
    "    print(\"The price of the Car is $\",base_price)\n",
    "\n",
    "          #OR\n",
    "          \n",
    "print(\"The price of the Car is $\",Car.get('Price',base_price))\n",
    "print(Car.items())"
   ]
  },
  {
   "cell_type": "markdown",
   "metadata": {},
   "source": [
    "*****************\n",
    "### `setdefault()` Method\n",
    "\n",
    "* set a `value` in a dictionary for a certain `key` only if that `key` does not already have a value."
   ]
  },
  {
   "cell_type": "code",
   "execution_count": 25,
   "metadata": {},
   "outputs": [
    {
     "name": "stdout",
     "output_type": "stream",
     "text": [
      "Toyota\n",
      "dict_items([('Make', 'Toyota'), ('Model', 'Camry'), ('Color', 'Silver')])\n",
      "30000\n",
      "dict_items([('Make', 'Toyota'), ('Model', 'Camry'), ('Color', 'Silver'), ('Price', 30000)])\n"
     ]
    }
   ],
   "source": [
    "Car = {'Make' : 'Toyota','Model' : 'Camry', 'Color':'Silver'}\n",
    "base_price = 30000\n",
    "\n",
    "# It only adds the key-value if it does not exist.\n",
    "print(Car.setdefault('Make', 'Honda'))\n",
    "print(Car.items())\n",
    "\n",
    "print(Car.setdefault('Price', base_price))\n",
    "print(Car.items())\n"
   ]
  },
  {
   "cell_type": "code",
   "execution_count": 32,
   "metadata": {},
   "outputs": [
    {
     "name": "stdout",
     "output_type": "stream",
     "text": [
      "{'W': 6, 'R': 14, 'I': 17, 'T': 33, 'E': 27, ' ': 64, 'A': 33, 'F': 6, 'U': 14, 'N': 20, 'C': 6, 'O': 15, 'H': 9, 'K': 2, 'S': 22, 'L': 13, 'V': 3, 'G': 3, 'M': 7, 'D': 9, 'P': 9, 'B': 6, 'Y': 3, ',': 5, '.': 3, 'X': 1, \"'\": 2}\n"
     ]
    }
   ],
   "source": [
    "text = \"Write a function that takes a list value as an argument and returns a string with all the items separated by a comma and a space, with and inserted before the last item. For example, passing the previous spam list to the function would return 'apples, bananas, tofu, and cats'. But your function should be able to work with any list value passed to it.\"\n",
    "\n",
    "count = {}\n",
    "\n",
    "for character in text.upper():\n",
    "    count.setdefault(character, 0)\n",
    "    count[character] += 1\n",
    "print(count)"
   ]
  },
  {
   "cell_type": "markdown",
   "metadata": {},
   "source": [
    "************\n",
    "### Pretty Printing"
   ]
  },
  {
   "cell_type": "code",
   "execution_count": 33,
   "metadata": {},
   "outputs": [
    {
     "name": "stdout",
     "output_type": "stream",
     "text": [
      "{' ': 64,\n",
      " \"'\": 2,\n",
      " ',': 5,\n",
      " '.': 3,\n",
      " 'A': 33,\n",
      " 'B': 6,\n",
      " 'C': 6,\n",
      " 'D': 9,\n",
      " 'E': 27,\n",
      " 'F': 6,\n",
      " 'G': 3,\n",
      " 'H': 9,\n",
      " 'I': 17,\n",
      " 'K': 2,\n",
      " 'L': 13,\n",
      " 'M': 7,\n",
      " 'N': 20,\n",
      " 'O': 15,\n",
      " 'P': 9,\n",
      " 'R': 14,\n",
      " 'S': 22,\n",
      " 'T': 33,\n",
      " 'U': 14,\n",
      " 'V': 3,\n",
      " 'W': 6,\n",
      " 'X': 1,\n",
      " 'Y': 3}\n"
     ]
    }
   ],
   "source": [
    "import pprint\n",
    "\n",
    "pprint.pprint(count)"
   ]
  },
  {
   "cell_type": "markdown",
   "metadata": {},
   "source": [
    "************\n",
    "### `pprint.pformat()` assigning cleaned view to the variable"
   ]
  },
  {
   "cell_type": "code",
   "execution_count": 37,
   "metadata": {},
   "outputs": [
    {
     "name": "stdout",
     "output_type": "stream",
     "text": [
      "{' ': 64,\n",
      " \"'\": 2,\n",
      " ',': 5,\n",
      " '.': 3,\n",
      " 'A': 33,\n",
      " 'B': 6,\n",
      " 'C': 6,\n",
      " 'D': 9,\n",
      " 'E': 27,\n",
      " 'F': 6,\n",
      " 'G': 3,\n",
      " 'H': 9,\n",
      " 'I': 17,\n",
      " 'K': 2,\n",
      " 'L': 13,\n",
      " 'M': 7,\n",
      " 'N': 20,\n",
      " 'O': 15,\n",
      " 'P': 9,\n",
      " 'R': 14,\n",
      " 'S': 22,\n",
      " 'T': 33,\n",
      " 'U': 14,\n",
      " 'V': 3,\n",
      " 'W': 6,\n",
      " 'X': 1,\n",
      " 'Y': 3}\n"
     ]
    }
   ],
   "source": [
    "import pprint\n",
    "\n",
    "clean_x = pprint.pformat(count)\n",
    "print(clean_x)"
   ]
  },
  {
   "cell_type": "markdown",
   "metadata": {},
   "source": [
    "**********\n",
    "### Dictionaries vs. Lists\n",
    "\n",
    "* order of items matters for two `lists` to be same,it does not matter in what order the key-value pairs are typed in a `dictionary`"
   ]
  },
  {
   "cell_type": "code",
   "execution_count": 59,
   "metadata": {},
   "outputs": [
    {
     "data": {
      "text/plain": [
       "True"
      ]
     },
     "execution_count": 59,
     "metadata": {},
     "output_type": "execute_result"
    }
   ],
   "source": [
    "eggs = {'name': 'Zophie', 'species': 'cat', 'age': '8'}\n",
    "ham = {'species': 'cat', 'age': '8', 'name': 'Zophie'}\n",
    "eggs == ham"
   ]
  },
  {
   "cell_type": "code",
   "execution_count": 65,
   "metadata": {},
   "outputs": [
    {
     "name": "stdout",
     "output_type": "stream",
     "text": [
      "['name', 'species', 'age']\n",
      "['species', 'age', 'name']\n"
     ]
    }
   ],
   "source": [
    "print(list(eggs))\n",
    "print(list(ham))"
   ]
  },
  {
   "cell_type": "markdown",
   "metadata": {},
   "source": [
    "# Chapter 6 - MANIPULATING STRINGS"
   ]
  },
  {
   "cell_type": "markdown",
   "metadata": {},
   "source": [
    "### Manipulating Strings\n",
    "\n",
    "- upper() and lower() return an uppercase or lowercase string.\n",
    "- isupper(), islower(), islapha(), isalnum(), isdecimal(), isspace(), istitle() returns\n",
    "True or False if the string is that respective kind of string.\n",
    "- startswith() and endswith() also return bools.\n",
    "-','.join(['cat', 'dog']) returns a string that combines the strings in a list.\n",
    "- 'Hello world'.split() returns a list of strings, split from the string it's called on.\n",
    "- rjust(), ljust(), center() returns a string padded with spaces.\n",
    "- strip(), rstrip(), Istrip() returns a string with whitespace stripped off the sides.\n",
    "- replace() will replace all occurences of the first string argument with the second\n",
    "string argument.\n",
    "- pyperclip has copy() and paste() functions for using the clipboard.\n",
    "\n",
    ">>> upper() and lower()\n",
    "\n",
    "<pre>\n",
    "spam = \"Automate the Boring Stuff with Python !!!\"\n",
    "\n",
    "spam.upper() -> 'AUTOMATE THE BORING STUFF WITH PYTHON !!!'\n",
    "spam.lower() -> 'automate the boring stuff with python !!!'\n",
    "</pre>\n",
    "\n",
    ">>> If Upper or not\n",
    "\n",
    "<pre>\n",
    "spam = \"Automate the Boring Stuff with Python\"\n",
    "\n",
    "\n",
    "spam.isupper() -> False\n",
    "spam.islower() -> False\n",
    "</pre>\n",
    ">>> isalpha() - letters only\n",
    "\n",
    "<pre>\n",
    "spam = \"AUTOMATE !\"\n",
    "text = \"AUTOMATE\"\n",
    "\n",
    "spam.isalpha() -> false\n",
    "spam.isalpha() -> true\n",
    "\n",
    "\n",
    "</pre>\n",
    "\n",
    "\n",
    ">>>isalnum() - letters and number only\n",
    "<pre>\n",
    "spam = \"egg123\"\n",
    "\n",
    "spam.isalnum() -> True\n",
    "</pre>\n",
    "\n",
    ">>>isdecimal()- numbers only.\n",
    "\n",
    ">>> isspace() - whitespace only\n",
    "\n",
    ">>> istitle() - titlecase only (All words starts with capital letters)\n",
    "\n",
    ">>> converting to title .title()\n",
    "\n",
    "<pre>\n",
    "spam = \"automate the boring stuff with python !!!\"\n",
    "\n",
    "spam.title() -> 'Automate The Boring Stuff With Python !!!'\n",
    "</pre>\n",
    "\n",
    ">>> startswith()\n",
    "\n",
    "<pre>\n",
    "spam = \"automate the boring stuff with python !!!\"\n",
    "\n",
    "spam.startswith(\"auto\") -> True\n",
    "</pre>\n",
    ">>> endswith()\n",
    "\n",
    "<pre>\n",
    "spam = \"automate the boring stuff with python !!!\"\n",
    "\n",
    "spam.endswith(\"!!!\") -> True\n",
    "</pre>\n",
    "\n",
    ">>> Join the list of strings\n",
    "\n",
    "<pre>\n",
    "\n",
    "cars = ['camry', 'accord', 'civic','sonata']\n",
    "\n",
    "All_cars = '||'.join(cars)\n",
    "print(All_cars) -> camry||accord||civic||sonata\n",
    "</pre>\n",
    "\n",
    ">>> # Split the strings into list\n",
    "\n",
    "<pre>\n",
    "text = \"Lesson 20 - Python Programming (Automate the Boring Stuff with Python)\"\n",
    "\n",
    "text_list = text.split()\n",
    "print(text_list) -> ['Lesson', '20', '-', 'Python', 'Programming', '(Automate', 'the', 'Boring', 'Stuff', 'with', 'Python)']\n",
    "</pre>\n",
    "\n",
    "<pre>\n",
    "cars = \"camry||accord||civic||sonata\"\n",
    "cars_list = cars.split('||')\n",
    "print(cars_list)\n",
    "</pre>\n",
    "\n",
    ">>> right justify and left justify. padding the strings\n",
    "\n",
    "<pre>\n",
    "x = \"auto\"\n",
    "\n",
    "x.rjust(10) -> '      auto'\n",
    "x.ljust(10) -> 'auto      '\n",
    "x.ljust(10, '*') -> 'auto******'\n",
    "x.center(10, '=')-> '===auto==='\n",
    "\n",
    "</pre>\n",
    "\n",
    ">>> Striping left, right and all around the word\n",
    "\n",
    "<pre>\n",
    "x = \"   auto   \"\n",
    "\n",
    "x.strip() -> 'auto'\n",
    "</pre>\n",
    "\n",
    "<pre>\n",
    "x = '===auto==='\n",
    "print(x.strip('=')) -> auto\n",
    "print(x.lstrip('=')) -> auto===\n",
    "print(x.rstrip('=')) -> ===auto\n",
    "</pre>\n",
    "\n",
    "*Strips letters not words \n",
    "<pre>\n",
    "x = 'catcatdogcatcat'\n",
    "print(x.strip('atc')) -> 'dog'\n",
    "</pre>\n",
    "\n",
    ">>> Replacing letters or words\n",
    "\n",
    "<pre>\n",
    "x = \"She sells seashells by the seashore\"\n",
    "print(x.replace(\"sea\", \"C\")) -> She sells Cshells by the Cshore\n",
    "</pre>\n",
    "\n",
    "\n",
    "\n",
    "\n",
    "\n"
   ]
  },
  {
   "cell_type": "markdown",
   "metadata": {},
   "source": [
    "**************\n",
    "### String Literals\n",
    "\n",
    "* Can accomodate double quotes"
   ]
  },
  {
   "cell_type": "code",
   "execution_count": null,
   "metadata": {},
   "outputs": [
    {
     "name": "stdout",
     "output_type": "stream",
     "text": [
      "Todays headline is \"This is new beginning\"\n"
     ]
    }
   ],
   "source": [
    "print('Todays headline is \"This is new beginning\"')"
   ]
  },
  {
   "cell_type": "markdown",
   "metadata": {},
   "source": [
    "*****************\n",
    "### Double Quotes\n",
    "\n",
    "* string can have a single quote `'`character in it."
   ]
  },
  {
   "cell_type": "code",
   "execution_count": null,
   "metadata": {},
   "outputs": [
    {
     "name": "stdout",
     "output_type": "stream",
     "text": [
      "That is Al\\ice's cat.\n"
     ]
    }
   ],
   "source": [
    "print(\"That is Alice's cat.\")"
   ]
  },
  {
   "cell_type": "markdown",
   "metadata": {},
   "source": [
    "***********\n",
    "### Escape Characters\n",
    "\n",
    "* strings used for Windows file paths like r'C:\\Users\\Al\\Desktop' or regular expressions\n",
    "\n",
    "- `\\'` == Single quote \n",
    "- `\\\"` == Double quote\n",
    "- `\\t` == Tab\n",
    "- `\\n` == Newline (line break)\n",
    "- `\\\\` == Backslash\n"
   ]
  },
  {
   "cell_type": "code",
   "execution_count": 14,
   "metadata": {},
   "outputs": [
    {
     "name": "stdout",
     "output_type": "stream",
     "text": [
      "Hello there!\n",
      "\tHow are you?\n",
      "\\I'm doing fine.\n"
     ]
    }
   ],
   "source": [
    "print(\"Hello there!\\n\\tHow are you?\\n\\\\I\\'m doing fine.\")"
   ]
  },
  {
   "cell_type": "markdown",
   "metadata": {},
   "source": [
    "************\n",
    "### Raw Strings `r`\n",
    "\n",
    "A raw string completely ignores all escape characters and prints any backslash that appears in the string.\n"
   ]
  },
  {
   "cell_type": "code",
   "execution_count": 61,
   "metadata": {},
   "outputs": [
    {
     "name": "stdout",
     "output_type": "stream",
     "text": [
      "That \n",
      "is Carol's cat.\n",
      "That \\n  is Carol\\'s cat.\n"
     ]
    }
   ],
   "source": [
    "name = 'dhani'\n",
    "\n",
    "print('That \\nis Carol\\'s cat.')\n",
    "\n",
    "print(r'That \\n  is Carol\\'s cat.')"
   ]
  },
  {
   "cell_type": "markdown",
   "metadata": {},
   "source": [
    "**********\n",
    "### Multiline Strings with Triple Quotes\n",
    "\n",
    "* Python’s indentation rules for blocks do not apply to lines inside a multiline string."
   ]
  },
  {
   "cell_type": "code",
   "execution_count": 65,
   "metadata": {},
   "outputs": [
    {
     "name": "stdout",
     "output_type": "stream",
     "text": [
      "Dear Alice,\n",
      "\n",
      "Eve's cat has been arrested for catnapping, cat burglary, and extortion.\n",
      "\n",
      "Sincerely,\n",
      "Bob\n",
      "\n",
      "Dear Alice,\n",
      "\n",
      "Eve's cat has been arrested for catnapping, cat burglary, and extortion.\n",
      "\n",
      "Sincerely,\n",
      "Bob\n"
     ]
    }
   ],
   "source": [
    "print('''Dear Alice,\n",
    "\n",
    "Eve's cat has been arrested for catnapping, cat burglary, and extortion.\n",
    "\n",
    "Sincerely,\n",
    "Bob''' )\n",
    "\n",
    "         #or\n",
    "print('\\nDear Alice,\\n\\nEve\\'s cat has been arrested for catnapping, cat burglary, and extortion.\\n\\nSincerely,\\nBob')"
   ]
  },
  {
   "cell_type": "markdown",
   "metadata": {},
   "source": [
    "**********\n",
    "### Multiline Comments\n"
   ]
  },
  {
   "cell_type": "code",
   "execution_count": 67,
   "metadata": {},
   "outputs": [
    {
     "name": "stdout",
     "output_type": "stream",
     "text": [
      "Hello!\n"
     ]
    }
   ],
   "source": [
    "def spam():\n",
    "    \"\"\"This is a multiline comment \n",
    "    to help explain what the \n",
    "    spam() function does.\"\"\"\n",
    "    print('Hello!')\n",
    "\n",
    "spam()"
   ]
  },
  {
   "cell_type": "markdown",
   "metadata": {},
   "source": [
    "**************\n",
    "### Indexing and Slicing Strings"
   ]
  },
  {
   "cell_type": "code",
   "execution_count": 118,
   "metadata": {},
   "outputs": [
    {
     "name": "stdout",
     "output_type": "stream",
     "text": [
      "H\n",
      "o\n",
      "!\n",
      "Hello\n",
      "Hello, w\n",
      "lo, world!\n",
      "world!\n",
      "wor\n"
     ]
    }
   ],
   "source": [
    "spam = 'Hello, world!'\n",
    "print(spam[0])\n",
    "\n",
    "print(spam[4])\n",
    "\n",
    "print(spam[-1])\n",
    "\n",
    "print(spam[0:5])\n",
    "\n",
    "print(spam[:8])\n",
    "\n",
    "print(spam[3:])\n",
    "\n",
    "print(spam[-6:])\n",
    "\n",
    "print(spam[-6:-3])\n"
   ]
  },
  {
   "cell_type": "markdown",
   "metadata": {},
   "source": [
    "**********\n",
    "### The `in` and `not in` Operators with Strings"
   ]
  },
  {
   "cell_type": "code",
   "execution_count": 74,
   "metadata": {},
   "outputs": [
    {
     "name": "stdout",
     "output_type": "stream",
     "text": [
      "True\n",
      "True\n"
     ]
    }
   ],
   "source": [
    "print('Hello' in 'Hello, World')\n",
    "print('' in 'spam')"
   ]
  },
  {
   "cell_type": "markdown",
   "metadata": {},
   "source": [
    "***********\n",
    "### Putting Strings Inside Other Strings"
   ]
  },
  {
   "cell_type": "code",
   "execution_count": 76,
   "metadata": {},
   "outputs": [
    {
     "data": {
      "text/plain": [
       "'Hello, my name is Aakash. I am 4000 years old.'"
      ]
     },
     "execution_count": 76,
     "metadata": {},
     "output_type": "execute_result"
    }
   ],
   "source": [
    "name = 'Aakash'\n",
    "age = 4000\n",
    "'Hello, my name is ' + name + '. I am ' + str(age) + ' years old.'\n"
   ]
  },
  {
   "cell_type": "markdown",
   "metadata": {},
   "source": [
    "### `f` string"
   ]
  },
  {
   "cell_type": "code",
   "execution_count": 79,
   "metadata": {},
   "outputs": [
    {
     "data": {
      "text/plain": [
       "'Hello, my name is Aakash. I am 36 years old. I will be 37 next year'"
      ]
     },
     "execution_count": 79,
     "metadata": {},
     "output_type": "execute_result"
    }
   ],
   "source": [
    "name = 'Aakash'\n",
    "age = 36\n",
    "f'Hello, my name is {name}. I am {age} years old. I will be {age + 1} next year'"
   ]
  },
  {
   "cell_type": "markdown",
   "metadata": {},
   "source": [
    "***********\n",
    "### `upper()`, `lower()`, `isupper()`, and `islower()` Methods"
   ]
  },
  {
   "cell_type": "code",
   "execution_count": null,
   "metadata": {},
   "outputs": [
    {
     "name": "stdout",
     "output_type": "stream",
     "text": [
      "HELLO, WORLD!\n",
      "hello, world!\n",
      "Hello, World!\n",
      "False\n",
      "True\n"
     ]
    },
    {
     "data": {
      "text/plain": [
       "'hello'"
      ]
     },
     "execution_count": 92,
     "metadata": {},
     "output_type": "execute_result"
    }
   ],
   "source": [
    "spam = 'Hello, world!'\n",
    "print(spam.upper()+'\\n'+ spam.lower()+'\\n'+spam.title())\n",
    "\n",
    "eggs = 'execution'\n",
    "\n",
    "print(eggs.isupper(),eggs.islower(), sep='\\n')"
   ]
  },
  {
   "cell_type": "markdown",
   "metadata": {},
   "source": [
    "`isalpha()` Returns True if the string consists only of letters and isn’t blank\n",
    "\n",
    "`isalnum()` Returns True if the string consists only of letters and numbers and is not blank\n",
    "\n",
    "`isdecimal()` Returns True if the string consists only of numeric characters and is not blank. just zero and positive integers\n",
    "\n",
    "`isspace()` Returns True if the string consists only of spaces, tabs, and newlines and is not blank\n",
    "\n",
    "`istitle()` Returns True if the string consists only of words that begin with an uppercase letter followed by only lowercase letters"
   ]
  },
  {
   "cell_type": "code",
   "execution_count": 108,
   "metadata": {},
   "outputs": [
    {
     "name": "stdout",
     "output_type": "stream",
     "text": [
      "True\n",
      "True\n",
      "True\n",
      "True\n",
      "True\n",
      "True\n"
     ]
    }
   ],
   "source": [
    "print('tom'.isalpha())\n",
    "print('5t9'.isalnum())\n",
    "print('0'.isdecimal())\n",
    "print(' '.isspace())\n",
    "print('Hello World'.istitle())\n",
    "print('This Is Title Case 123'.istitle())\n"
   ]
  },
  {
   "cell_type": "markdown",
   "metadata": {},
   "source": [
    "*********\n",
    "### `startswith()` and `endswith()` Methods"
   ]
  },
  {
   "cell_type": "code",
   "execution_count": null,
   "metadata": {},
   "outputs": [
    {
     "name": "stdout",
     "output_type": "stream",
     "text": [
      "True\n",
      "True\n",
      "True\n",
      "False\n"
     ]
    }
   ],
   "source": [
    "print('Hello, world!'.startswith('Hello'))\n",
    "print('Hello, world!'.endswith('world!'))\n",
    "print('Hello, world!'.startswith('Hello, world!'))\n",
    "print('Hello, world!'.endswith(''))\n"
   ]
  },
  {
   "cell_type": "markdown",
   "metadata": {},
   "source": [
    "***********\n",
    "### The `join()` and `split()` Methods"
   ]
  },
  {
   "cell_type": "code",
   "execution_count": 7,
   "metadata": {},
   "outputs": [
    {
     "name": "stdout",
     "output_type": "stream",
     "text": [
      "cats, rats, bats\n",
      "cats||rats||bats\n",
      "['cats', 'rats', 'bats']\n",
      "['The', 'join()', 'method', 'is', 'useful', 'when', 'you', 'have', 'a', 'list', 'of', 'strings']\n"
     ]
    }
   ],
   "source": [
    "string =  ', '.join(['cats', 'rats', 'bats'])\n",
    "print(string)\n",
    "string1 =  '||'.join(['cats', 'rats', 'bats'])\n",
    "print(string1)\n",
    "\n",
    "x= string1.split('||')\n",
    "print(x)\n",
    "\n",
    "a= \"The join() method is useful when you have a list of strings\"\n",
    "print(a.split())\n"
   ]
  },
  {
   "cell_type": "markdown",
   "metadata": {},
   "source": [
    "### The `partition()` Method"
   ]
  },
  {
   "cell_type": "code",
   "execution_count": 3,
   "metadata": {},
   "outputs": [
    {
     "name": "stdout",
     "output_type": "stream",
     "text": [
      "['Th', ' join() m', 'thod is us', 'ful wh', 'n you hav', ' a list of strings']\n",
      "('Th', 'e', ' join() method is useful when you have a list of strings')\n"
     ]
    }
   ],
   "source": [
    "a= \"The join() method is useful when you have a list of strings\"\n",
    "print(a.split('e'))\n",
    "print(a.partition('e'))"
   ]
  },
  {
   "cell_type": "markdown",
   "metadata": {},
   "source": [
    "### The `rjust()`, `ljust()`, and `center()` Methods"
   ]
  },
  {
   "cell_type": "code",
   "execution_count": 21,
   "metadata": {},
   "outputs": [
    {
     "name": "stdout",
     "output_type": "stream",
     "text": [
      "             Hello\n",
      "       World...!!!\n",
      "*************Hello \n",
      "         18        \n",
      "World     \n",
      "World***** \n",
      "\n",
      "         Hello World          \n",
      "*********Hello World**********\n"
     ]
    }
   ],
   "source": [
    "print('Hello'.rjust(18))\n",
    "print('World...!!!'.rjust(18))\n",
    "print('Hello'.rjust(18, '*'),'\\n', str(len('Hello'.rjust(18, '*'))).center(18))\n",
    "\n",
    "\n",
    "print('World'.ljust(10))\n",
    "print('World'.ljust(10, '*'), '\\n')\n",
    "\n",
    "print('Hello World'.center(30))\n",
    "print('Hello World'.center(30, '*'))"
   ]
  },
  {
   "cell_type": "code",
   "execution_count": 11,
   "metadata": {},
   "outputs": [
    {
     "name": "stdout",
     "output_type": "stream",
     "text": [
      "---PICNIC ITEMS--\n",
      "sandwiches..    4\n",
      "apples......   12\n",
      "cups........    4\n",
      "cookies..... 8000\n",
      "-------PICNIC ITEMS-------\n",
      "sandwiches..........     4\n",
      "apples..............    12\n",
      "cups................     4\n",
      "cookies.............  8000\n"
     ]
    }
   ],
   "source": [
    "def printPicnic(itemsDict, leftWidth, rightWidth):\n",
    "    print('PICNIC ITEMS'.center(leftWidth + rightWidth, '-'))\n",
    "    for k, v in itemsDict.items():\n",
    "        print(k.ljust(leftWidth, '.') + str(v).rjust(rightWidth))\n",
    "\n",
    "picnicItems = {'sandwiches': 4, 'apples': 12, 'cups': 4, 'cookies': 8000}\n",
    "printPicnic(picnicItems, 12, 5)\n",
    "printPicnic(picnicItems, 20, 6)"
   ]
  },
  {
   "cell_type": "markdown",
   "metadata": {},
   "source": [
    "### Removing Whitespace with the `strip()`, `rstrip()`, and `lstrip()` Methods"
   ]
  },
  {
   "cell_type": "code",
   "execution_count": 6,
   "metadata": {},
   "outputs": [
    {
     "name": "stdout",
     "output_type": "stream",
     "text": [
      "    Hello, World     *\n",
      "Hello, World *\n",
      "Hello, World     *\n",
      "    Hello, World *\n"
     ]
    }
   ],
   "source": [
    "print('    Hello, World    ', '*')\n",
    "\n",
    "print('    Hello, World    '.strip(), '*')\n",
    "print('    Hello, World    '.lstrip(), '*')\n",
    "print('    Hello, World    '.rstrip(), '*')"
   ]
  },
  {
   "cell_type": "code",
   "execution_count": 5,
   "metadata": {},
   "outputs": [
    {
     "data": {
      "text/plain": [
       "'BaconSpamEggs'"
      ]
     },
     "execution_count": 5,
     "metadata": {},
     "output_type": "execute_result"
    }
   ],
   "source": [
    "# The order of the characters in the string passed to strip() does not matter\n",
    "\n",
    "spam = 'SpamSpamBaconSpamEggsSpamSpam'\n",
    "spam.strip('ampS')"
   ]
  },
  {
   "cell_type": "markdown",
   "metadata": {},
   "source": [
    "### Numeric Values of Characters with the `ord()` and `chr()` Functions"
   ]
  },
  {
   "cell_type": "code",
   "execution_count": 11,
   "metadata": {},
   "outputs": [
    {
     "name": "stdout",
     "output_type": "stream",
     "text": [
      "65\n",
      "57\n",
      "33\n",
      "True\n"
     ]
    }
   ],
   "source": [
    "# Chars to Nums\n",
    "\n",
    "print(ord('A'))\n",
    "print(ord('9'))\n",
    "print(ord('!'))\n",
    "\n",
    "print(ord('A') < ord('B'))"
   ]
  },
  {
   "cell_type": "code",
   "execution_count": 12,
   "metadata": {},
   "outputs": [
    {
     "name": "stdout",
     "output_type": "stream",
     "text": [
      "A\n",
      "B\n"
     ]
    }
   ],
   "source": [
    "#Nums to Char\n",
    "\n",
    "print(chr(65))\n",
    "print(chr(ord('A') + 1))"
   ]
  },
  {
   "cell_type": "code",
   "execution_count": null,
   "metadata": {},
   "outputs": [],
   "source": []
  }
 ],
 "metadata": {
  "kernelspec": {
   "display_name": "Python 3",
   "language": "python",
   "name": "python3"
  },
  "language_info": {
   "codemirror_mode": {
    "name": "ipython",
    "version": 3
   },
   "file_extension": ".py",
   "mimetype": "text/x-python",
   "name": "python",
   "nbconvert_exporter": "python",
   "pygments_lexer": "ipython3",
   "version": "3.12.1"
  }
 },
 "nbformat": 4,
 "nbformat_minor": 2
}
