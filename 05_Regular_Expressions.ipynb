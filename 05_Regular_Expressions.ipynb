{
 "cells": [
  {
   "cell_type": "markdown",
   "id": "23203c1f",
   "metadata": {},
   "source": [
    "# Regex\n",
    "\n",
    "### https://regex101.com/"
   ]
  },
  {
   "cell_type": "markdown",
   "id": "7cde193d",
   "metadata": {},
   "source": [
    "\\\\d ---------- Any numeric digit from 0 to 9.\n",
    "\n",
    "\\\\D ---------- Any character that is not a numeric digit from 0 to 9.\n",
    "\n",
    "\\\\w ---------- Any letter, numeric digit, or the underscore character.\n",
    "\n",
    "\\\\W ---------- Any character that is not a letter, numeric digit, or the underscore character.\n",
    "\n",
    "\\\\s ---------- Any space, tab, or newline character.\n",
    "\n",
    "\\\\S ---------- Any character that is not a space, tab, or newline.\n"
   ]
  },
  {
   "cell_type": "markdown",
   "id": "7d1d9617",
   "metadata": {},
   "source": [
    "Regex Symbols\n",
    "\n",
    "* The `?` matches zero or one of the preceding group.\n",
    "* The `*` matches zero or more of the preceding group.\n",
    "* The `+` matches one or more of the preceding group.\n",
    "* The `{n}` matches exactly n of the preceding group.\n",
    "* The `{n,}` matches n or more of the preceding group.\n",
    "* The `{,m}` matches 0 to m of the preceding group.\n",
    "* The `{n,m}` matches at least n and at most m of the preceding group.\n",
    "* `{n,m}?` or `*?` or `+?` performs a non-greedy match of the preceding group.\n",
    "* `^`spam means the string must begin with spam.\n",
    "* spam`$` means the string must end with spam.\n",
    "* The `.` matches any character, except newline characters.\n",
    "* `[abc]` matches any character between the brackets (such as a, b, or c).\n",
    "* `[^abc]` matches any character that isn’t between the brackets."
   ]
  },
  {
   "cell_type": "markdown",
   "id": "3abfc3a7",
   "metadata": {},
   "source": [
    "### to detect these characters as part of your text pattern"
   ]
  },
  {
   "cell_type": "code",
   "execution_count": 2,
   "id": "63e473e7",
   "metadata": {},
   "outputs": [
    {
     "name": "stdout",
     "output_type": "stream",
     "text": [
      "\\.  \\^  \\$  \\*  \\+  \\?  \\{  \\}  \\[  \\]  \\\\  \\|  \\(  \\)\n"
     ]
    }
   ],
   "source": [
    "print(r\"\\.  \\^  \\$  \\*  \\+  \\?  \\{  \\}  \\[  \\]  \\\\  \\|  \\(  \\)\")"
   ]
  },
  {
   "cell_type": "markdown",
   "id": "2c943304",
   "metadata": {},
   "source": [
    "***********\n",
    "### Creating Regex Objects\n",
    "* Passing a string value representing your regular expression to `re.compile()` returns a Regex pattern object"
   ]
  },
  {
   "cell_type": "code",
   "execution_count": 3,
   "id": "48d0ebb2",
   "metadata": {},
   "outputs": [],
   "source": [
    "import re\n",
    "\n",
    "phoneNumRegex = re.compile(r'\\d\\d\\d-\\d\\d\\d-\\d\\d\\d\\d')\n",
    "# the phoneNumRegex variable contains a Regex object."
   ]
  },
  {
   "cell_type": "markdown",
   "id": "83ed937a",
   "metadata": {},
   "source": [
    "*************\n",
    "### Matching Regex Objects"
   ]
  },
  {
   "cell_type": "code",
   "execution_count": 4,
   "id": "b5e043ef",
   "metadata": {},
   "outputs": [
    {
     "name": "stdout",
     "output_type": "stream",
     "text": [
      "Phone number found: 415-555-4242\n"
     ]
    }
   ],
   "source": [
    "mo = phoneNumRegex.search('My number is 415-555-4242.')\n",
    "print('Phone number found: ' + mo.group())"
   ]
  },
  {
   "cell_type": "markdown",
   "id": "c5f73415",
   "metadata": {},
   "source": [
    "**********\n",
    "### Grouping with Parentheses\n",
    "\n",
    "* Passing `0` or `nothing` to the group() method will return the entire matched text.\n",
    "* The below gives you the first find but not all"
   ]
  },
  {
   "cell_type": "code",
   "execution_count": 14,
   "id": "ae8d4faf",
   "metadata": {},
   "outputs": [
    {
     "name": "stdout",
     "output_type": "stream",
     "text": [
      "415\n",
      "555-4242\n",
      "415-555-4242\n",
      "415-555-4242\n"
     ]
    }
   ],
   "source": [
    "phoneNumRegex = re.compile(r'(\\d\\d\\d)-(\\d\\d\\d-\\d\\d\\d\\d)')\n",
    "mo = phoneNumRegex.search('My number is 415-555-4242. 848-404-0480')\n",
    "print(mo.group(1))\n",
    "\n",
    "print(mo.group(2))\n",
    "\n",
    "print(mo.group(0))\n",
    "\n",
    "print(mo.group())"
   ]
  },
  {
   "cell_type": "markdown",
   "id": "d971d2a0",
   "metadata": {},
   "source": [
    "Finding all"
   ]
  },
  {
   "cell_type": "code",
   "execution_count": 19,
   "id": "5776c992",
   "metadata": {},
   "outputs": [
    {
     "name": "stdout",
     "output_type": "stream",
     "text": [
      "Group 1: 415\n",
      "Group 2: 555-4242\n",
      "Group 1: 848\n",
      "Group 2: 404-0480\n",
      "\n",
      "\n",
      "['415', '848']\n",
      "\n",
      "\n",
      "['555-4242', '404-0480']\n"
     ]
    }
   ],
   "source": [
    "import re\n",
    "\n",
    "phoneNumRegex = re.compile(r'(\\d\\d\\d)-(\\d\\d\\d-\\d\\d\\d\\d)')\n",
    "mo = phoneNumRegex.findall('My number is 415-555-4242. 848-404-0480')\n",
    "\n",
    "for match in mo:\n",
    "    print(\"Group 1:\", match[0])  # Area code\n",
    "    print(\"Group 2:\", match[1])  # Rest of the number\n",
    "\n",
    "print('\\n')\n",
    "\n",
    "group1_list = [match[0] for match in mo]\n",
    "print(group1_list)\n",
    "\n",
    "print('\\n')\n",
    "\n",
    "group2_list = [match[1] for match in mo]\n",
    "print(group2_list)\n"
   ]
  },
  {
   "cell_type": "markdown",
   "id": "280227a3",
   "metadata": {},
   "source": [
    "### retrieve all the groups at once, use the `groups()` method"
   ]
  },
  {
   "cell_type": "code",
   "execution_count": 6,
   "id": "8eab5f46",
   "metadata": {},
   "outputs": [
    {
     "name": "stdout",
     "output_type": "stream",
     "text": [
      "('415', '555-4242')\n",
      "415\n",
      "555-4242\n"
     ]
    }
   ],
   "source": [
    "print(mo.groups())\n",
    "\n",
    "areaCode, mainNumber = mo.groups()\n",
    "print(areaCode)\n",
    "print(mainNumber)"
   ]
  },
  {
   "cell_type": "markdown",
   "id": "0014777f",
   "metadata": {},
   "source": [
    "************\n",
    "### The `Pipe` = `|` \n",
    "\n",
    "* The regular expression r'Batman|Tina Fey' will match either 'Batman' or 'Tina Fey'.\n",
    "\n",
    "The Below gives first find"
   ]
  },
  {
   "cell_type": "code",
   "execution_count": 7,
   "id": "75efb417",
   "metadata": {},
   "outputs": [
    {
     "data": {
      "text/plain": [
       "'Batman'"
      ]
     },
     "execution_count": 7,
     "metadata": {},
     "output_type": "execute_result"
    }
   ],
   "source": [
    "heroRegex = re.compile (r'Batman|Tina Fey')\n",
    "mo1 = heroRegex.search('Batman and Tina Fey')\n",
    "mo1.group()"
   ]
  },
  {
   "cell_type": "markdown",
   "id": "e61bc50e",
   "metadata": {},
   "source": [
    "using `findall()` gives all the matches"
   ]
  },
  {
   "cell_type": "code",
   "execution_count": 11,
   "id": "3dc13dd4",
   "metadata": {},
   "outputs": [
    {
     "data": {
      "text/plain": [
       "['Batman', 'Tina Fey']"
      ]
     },
     "execution_count": 11,
     "metadata": {},
     "output_type": "execute_result"
    }
   ],
   "source": [
    "heroRegex = re.compile (r'Batman|Tina Fey')\n",
    "mo1 = heroRegex.findall('Batman and Tina Fey')\n",
    "mo1\n"
   ]
  },
  {
   "cell_type": "markdown",
   "id": "837fdd85",
   "metadata": {},
   "source": [
    "*********\n",
    "### Optional Matching with the Question Mark `?`"
   ]
  },
  {
   "cell_type": "code",
   "execution_count": 23,
   "id": "cf82e5b2",
   "metadata": {},
   "outputs": [
    {
     "name": "stdout",
     "output_type": "stream",
     "text": [
      "Batman\n"
     ]
    }
   ],
   "source": [
    "batRegex = re.compile(r'Bat(wo)?man')\n",
    "mo1 = batRegex.search('The Adventures of Batman and Batwoman')\n",
    "\n",
    "print(mo1.group())"
   ]
  },
  {
   "cell_type": "code",
   "execution_count": 24,
   "id": "4da94744",
   "metadata": {},
   "outputs": [
    {
     "name": "stdout",
     "output_type": "stream",
     "text": [
      "['Batman', 'Batwoman']\n"
     ]
    }
   ],
   "source": [
    "batRegex = re.compile(r'Bat(?:wo)?man')  # non-capturing group\n",
    "mo2 = batRegex.findall('The Adventures of Batman and Batwoman')\n",
    "print(mo2)"
   ]
  },
  {
   "cell_type": "markdown",
   "id": "67755dc3",
   "metadata": {},
   "source": [
    "*********\n",
    "### Matching Zero or More with the `*` Star"
   ]
  },
  {
   "cell_type": "code",
   "execution_count": 25,
   "id": "c500b1a3",
   "metadata": {},
   "outputs": [
    {
     "name": "stdout",
     "output_type": "stream",
     "text": [
      "Batman\n",
      "Batwoman\n",
      "Batwowowowoman\n"
     ]
    }
   ],
   "source": [
    "batRegex = re.compile(r'Bat(wo)*man')\n",
    "mo1 = batRegex.search('The Adventures of Batman')\n",
    "print(mo1.group())\n",
    "\n",
    "\n",
    "mo2 = batRegex.search('The Adventures of Batwoman')\n",
    "print(mo2.group())\n",
    "\n",
    "\n",
    "mo3 = batRegex.search('The Adventures of Batwowowowoman')\n",
    "print(mo3.group())"
   ]
  },
  {
   "cell_type": "markdown",
   "id": "78b6ced0",
   "metadata": {},
   "source": [
    "********\n",
    "### Matching One or More with the `+`Plus"
   ]
  },
  {
   "cell_type": "code",
   "execution_count": 30,
   "id": "e5297411",
   "metadata": {},
   "outputs": [
    {
     "name": "stdout",
     "output_type": "stream",
     "text": [
      "Batwoman\n",
      "Batwowowowoman\n"
     ]
    },
    {
     "data": {
      "text/plain": [
       "True"
      ]
     },
     "execution_count": 30,
     "metadata": {},
     "output_type": "execute_result"
    }
   ],
   "source": [
    "batRegex = re.compile(r'Bat(wo)+man')\n",
    "mo1 = batRegex.search('The Adventures of Batwoman')\n",
    "print(mo1.group())\n",
    "\n",
    "\n",
    "mo2 = batRegex.search('The Adventures of Batwowowowoman')\n",
    "print(mo2.group())\n",
    "\n",
    "\n",
    "mo3 = batRegex.search('The Adventures of Batman')\n",
    "mo3 == None"
   ]
  },
  {
   "cell_type": "markdown",
   "id": "06354cff",
   "metadata": {},
   "source": [
    "**********\n",
    "### Matching Specific Repetitions with Braces"
   ]
  },
  {
   "cell_type": "code",
   "execution_count": 33,
   "id": "4b0f234c",
   "metadata": {},
   "outputs": [
    {
     "name": "stdout",
     "output_type": "stream",
     "text": [
      "HaHaHa\n"
     ]
    },
    {
     "data": {
      "text/plain": [
       "True"
      ]
     },
     "execution_count": 33,
     "metadata": {},
     "output_type": "execute_result"
    }
   ],
   "source": [
    "haRegex = re.compile(r'(Ha){3}')\n",
    "mo1 = haRegex.search('HaHaHa')\n",
    "print(mo1.group())\n",
    "\n",
    "mo2 = haRegex.search('Ha')\n",
    "mo2 == None"
   ]
  },
  {
   "cell_type": "markdown",
   "id": "7287ac3c",
   "metadata": {},
   "source": [
    "********\n",
    "### Greedy and Non-greedy Matching"
   ]
  },
  {
   "cell_type": "code",
   "execution_count": 36,
   "id": "c694ac81",
   "metadata": {},
   "outputs": [
    {
     "name": "stdout",
     "output_type": "stream",
     "text": [
      "HaHaHaHaHa\n"
     ]
    }
   ],
   "source": [
    "greedyHaRegex = re.compile(r'(Ha){3,5}')\n",
    "mo1 = greedyHaRegex.search('HaHaHaHaHa')\n",
    "print(mo1.group())"
   ]
  },
  {
   "cell_type": "code",
   "execution_count": 37,
   "id": "358a1a46",
   "metadata": {},
   "outputs": [
    {
     "name": "stdout",
     "output_type": "stream",
     "text": [
      "HaHaHa\n"
     ]
    }
   ],
   "source": [
    "nongreedyHaRegex = re.compile(r'(Ha){3,5}?')\n",
    "mo2 = nongreedyHaRegex.search('HaHaHaHaHa')\n",
    "print(mo2.group())"
   ]
  },
  {
   "cell_type": "markdown",
   "id": "2a09fb8f",
   "metadata": {},
   "source": [
    "***********\n",
    "### The `findall()` Method"
   ]
  },
  {
   "cell_type": "code",
   "execution_count": 39,
   "id": "2804e648",
   "metadata": {},
   "outputs": [
    {
     "data": {
      "text/plain": [
       "['415-555-9999', '212-555-0000']"
      ]
     },
     "execution_count": 39,
     "metadata": {},
     "output_type": "execute_result"
    }
   ],
   "source": [
    "phoneNumRegex = re.compile(r'\\d\\d\\d-\\d\\d\\d-\\d\\d\\d\\d') # has no groups\n",
    "mo = phoneNumRegex.findall('Cell: 415-555-9999 Work: 212-555-0000')\n",
    "mo"
   ]
  },
  {
   "cell_type": "code",
   "execution_count": 46,
   "id": "7c0b1834",
   "metadata": {},
   "outputs": [
    {
     "name": "stdout",
     "output_type": "stream",
     "text": [
      "[('415', '555-9999'), ('212', '555-0000')]\n",
      "['415', '555-9999']\n",
      "['212', '555-0000']\n"
     ]
    }
   ],
   "source": [
    "phoneNumRegex = re.compile(r'(\\d\\d\\d)-(\\d\\d\\d-\\d\\d\\d\\d)') # has groups\n",
    "mo1 = phoneNumRegex.findall('Cell: 415-555-9999 Work: 212-555-0000')\n",
    "print(mo1)\n",
    "print(list(mo1[0]))\n",
    "print(list(mo1[1]))"
   ]
  },
  {
   "cell_type": "markdown",
   "id": "814b4146",
   "metadata": {},
   "source": [
    "***********\n",
    "### Making Your Own Character Classes using `[]` and `^`"
   ]
  },
  {
   "cell_type": "code",
   "execution_count": 55,
   "id": "5c124cf6",
   "metadata": {},
   "outputs": [
    {
     "data": {
      "text/plain": [
       "['848', '404', '0480', '09']"
      ]
     },
     "execution_count": 55,
     "metadata": {},
     "output_type": "execute_result"
    }
   ],
   "source": [
    "vowelRegex = re.compile(r'[0-9]+')\n",
    "vowelRegex.findall('My cell number is 848-404-0480 and my extension is 09')"
   ]
  },
  {
   "cell_type": "code",
   "execution_count": 53,
   "id": "ef838cf3",
   "metadata": {},
   "outputs": [
    {
     "name": "stdout",
     "output_type": "stream",
     "text": [
      "['M', 'y', ' ', 'c', 'e', 'l', 'l', ' ', 'n', 'u', 'm', 'b', 'e', 'r', ' ', 'i', 's', ' ', '-', '-', ' ', 'a', 'n', 'd', ' ', 'm', 'y', ' ', 'e', 'x', 't', 'e', 'n', 's', 'i', 'o', 'n', ' ', 'i', 's', ' ']\n"
     ]
    }
   ],
   "source": [
    "vowelRegex = re.compile(r'[^0-9]')\n",
    "print(vowelRegex.findall('My cell number is 848-404-0480 and my extension is 09'))"
   ]
  },
  {
   "cell_type": "markdown",
   "id": "70f43659",
   "metadata": {},
   "source": [
    "***********\n",
    "### The Caret and Dollar Sign Characters\n",
    "* use the caret symbol `^` at the start of a regex to indicate that a match must occur at the beginning of the searched text.\n",
    "* use a dollar sign `$` at the end of the regex to indicate the string must end with this regex pattern.\n",
    "* use the `^` and `$` together to indicate that the entire string must match the regex—that is, it’s not enough for a match to be made on some subset of the string."
   ]
  },
  {
   "cell_type": "code",
   "execution_count": 56,
   "id": "71d5a967",
   "metadata": {},
   "outputs": [
    {
     "data": {
      "text/plain": [
       "<re.Match object; span=(0, 5), match='Hello'>"
      ]
     },
     "execution_count": 56,
     "metadata": {},
     "output_type": "execute_result"
    }
   ],
   "source": [
    "beginsWithHello = re.compile(r'^Hello')\n",
    "beginsWithHello.search('Hello, world!')"
   ]
  },
  {
   "cell_type": "code",
   "execution_count": 66,
   "id": "8c2ab75e",
   "metadata": {},
   "outputs": [
    {
     "name": "stdout",
     "output_type": "stream",
     "text": [
      "<re.Match object; span=(16, 17), match='2'>\n"
     ]
    }
   ],
   "source": [
    "endsWithNumber = re.compile(r'\\d$')\n",
    "x = endsWithNumber.search('Your number is 42')\n",
    "print(x)"
   ]
  },
  {
   "cell_type": "code",
   "execution_count": 61,
   "id": "12da07b5",
   "metadata": {},
   "outputs": [
    {
     "data": {
      "text/plain": [
       "<re.Match object; span=(0, 10), match='1234567890'>"
      ]
     },
     "execution_count": 61,
     "metadata": {},
     "output_type": "execute_result"
    }
   ],
   "source": [
    "wholeStringIsNum = re.compile(r'^\\d+$')\n",
    "wholeStringIsNum.search('1234567890')"
   ]
  },
  {
   "cell_type": "markdown",
   "id": "54e32a3a",
   "metadata": {},
   "source": [
    "**********\n",
    "### The Wildcard Character `.`"
   ]
  },
  {
   "cell_type": "code",
   "execution_count": 67,
   "id": "01c14e53",
   "metadata": {},
   "outputs": [
    {
     "name": "stdout",
     "output_type": "stream",
     "text": [
      "Al\n",
      "Sweigart\n"
     ]
    }
   ],
   "source": [
    "nameRegex = re.compile(r'First Name: (.*) Last Name: (.*)')\n",
    "mo = nameRegex.search('First Name: Al Last Name: Sweigart')\n",
    "print(mo.group(1))\n",
    "print(mo.group(2))"
   ]
  },
  {
   "cell_type": "code",
   "execution_count": 69,
   "id": "50fd914c",
   "metadata": {},
   "outputs": [
    {
     "name": "stdout",
     "output_type": "stream",
     "text": [
      "<To serve man>\n",
      "<To serve man> for dinner.>\n"
     ]
    }
   ],
   "source": [
    "# Non-Greedy way\n",
    "\n",
    "nongreedyRegex = re.compile(r'<.*?>')\n",
    "mo = nongreedyRegex.search('<To serve man> for dinner.>')\n",
    "print(mo.group())\n",
    "\n",
    "# Greedy Way\n",
    "\n",
    "greedyRegex = re.compile(r'<.*>')\n",
    "mo = greedyRegex.search('<To serve man> for dinner.>')\n",
    "print(mo.group())\n"
   ]
  },
  {
   "cell_type": "markdown",
   "id": "46756d50",
   "metadata": {},
   "source": [
    "*********\n",
    "### Matching Newlines with the Dot Character `.` using `re.DOTALL`"
   ]
  },
  {
   "cell_type": "code",
   "execution_count": 70,
   "id": "823eac2f",
   "metadata": {},
   "outputs": [
    {
     "data": {
      "text/plain": [
       "'Serve the public trust.'"
      ]
     },
     "execution_count": 70,
     "metadata": {},
     "output_type": "execute_result"
    }
   ],
   "source": [
    "noNewlineRegex = re.compile('.*')\n",
    "noNewlineRegex.search('Serve the public trust.\\nProtect the innocent.\\nUphold the law.').group()"
   ]
  },
  {
   "cell_type": "code",
   "execution_count": 71,
   "id": "439b398d",
   "metadata": {},
   "outputs": [
    {
     "data": {
      "text/plain": [
       "'Serve the public trust.\\nProtect the innocent.\\nUphold the law.'"
      ]
     },
     "execution_count": 71,
     "metadata": {},
     "output_type": "execute_result"
    }
   ],
   "source": [
    "newlineRegex = re.compile('.*', re.DOTALL)\n",
    "newlineRegex.search('Serve the public trust.\\nProtect the innocent.\\nUphold the law.').group()"
   ]
  },
  {
   "cell_type": "code",
   "execution_count": 72,
   "id": "8a7fc3eb",
   "metadata": {},
   "outputs": [
    {
     "data": {
      "text/plain": [
       "'Serve the public trust.\\n                    \\n                    \\nProtect the innocent.\\n                    \\n                    \\nUphold the law.'"
      ]
     },
     "execution_count": 72,
     "metadata": {},
     "output_type": "execute_result"
    }
   ],
   "source": [
    "newlineRegex = re.compile('.*', re.DOTALL)\n",
    "newlineRegex.search(\"\"\"Serve the public trust.\n",
    "                    \n",
    "                    \\nProtect the innocent.\n",
    "                    \n",
    "                    \\nUphold the law.\"\"\").group()"
   ]
  },
  {
   "cell_type": "markdown",
   "id": "96370329",
   "metadata": {},
   "source": [
    "**********\n",
    "### Case-Insensitive Matching `re.IGNORECASE` or `re.I`"
   ]
  },
  {
   "cell_type": "code",
   "execution_count": null,
   "id": "c46f675d",
   "metadata": {},
   "outputs": [],
   "source": [
    "robocop = re.compile(r'robocop', re.I)\n",
    "robocop.search('RoboCop is part man, part machine, all cop.').group()\n",
    "'RoboCop'"
   ]
  },
  {
   "cell_type": "markdown",
   "id": "7dfbcb60",
   "metadata": {},
   "source": [
    "**********\n",
    "### Substituting or replacing Strings with the `sub()` Method"
   ]
  },
  {
   "cell_type": "code",
   "execution_count": 75,
   "id": "6cf2d4bb",
   "metadata": {},
   "outputs": [
    {
     "data": {
      "text/plain": [
       "'CENSORED gave the secret documents to CENSORED.'"
      ]
     },
     "execution_count": 75,
     "metadata": {},
     "output_type": "execute_result"
    }
   ],
   "source": [
    "namesRegex = re.compile(r'Agent \\w+')\n",
    "namesRegex.sub('CENSORED', 'Agent Alice gave the secret documents to Agent Bob.')"
   ]
  },
  {
   "cell_type": "markdown",
   "id": "5804862f",
   "metadata": {},
   "source": [
    "To use the matched text itself as part of the substitution."
   ]
  },
  {
   "cell_type": "code",
   "execution_count": 78,
   "id": "a7614b17",
   "metadata": {},
   "outputs": [
    {
     "data": {
      "text/plain": [
       "'A**** told C**** that E**** knew B**** was a double agent.'"
      ]
     },
     "execution_count": 78,
     "metadata": {},
     "output_type": "execute_result"
    }
   ],
   "source": [
    "agentNamesRegex = re.compile(r'Agent (\\w)\\w*')\n",
    "agentNamesRegex.sub(r'\\1****', 'Agent Alice told Agent Carol that Agent Eve knew Agent Bob was a double agent.')"
   ]
  },
  {
   "cell_type": "markdown",
   "id": "e8cb77c7",
   "metadata": {},
   "source": [
    "In the first argument to sub(), you can type \\1, \\2, \\3, and so on, to mean “Enter the text of group 1, 2, 3, and so on, in the substitution.”"
   ]
  },
  {
   "cell_type": "code",
   "execution_count": 80,
   "id": "aee0fc6d",
   "metadata": {},
   "outputs": [
    {
     "data": {
      "text/plain": [
       "'Al**** told Ca**** that Ev**** knew Bo**** was a double agent.'"
      ]
     },
     "execution_count": 80,
     "metadata": {},
     "output_type": "execute_result"
    }
   ],
   "source": [
    "agentNamesRegex = re.compile(r'Agent (\\w{2})\\w*')\n",
    "agentNamesRegex.sub(r'\\1****', 'Agent Alice told Agent Carol that Agent Eve knew Agent Bob was a double agent.')"
   ]
  },
  {
   "cell_type": "markdown",
   "id": "958ef6f2",
   "metadata": {},
   "source": [
    "*************\n",
    "### Managing Complex Regexes using `re.VERBOSE`"
   ]
  },
  {
   "cell_type": "code",
   "execution_count": null,
   "id": "32cde2c9",
   "metadata": {},
   "outputs": [],
   "source": [
    "phoneRegex = re.compile(r'''(\n",
    "    (\\d{3}|\\(\\d{3}\\))?            # area code\n",
    "    (\\s|-|\\.)?                    # separator\n",
    "    \\d{3}                         # first 3 digits\n",
    "    (\\s|-|\\.)                     # separator\n",
    "    \\d{4}                         # last 4 digits\n",
    "    (\\s*(ext|x|ext.)\\s*\\d{2,5})?  # extension\n",
    "    )''', re.VERBOSE)"
   ]
  },
  {
   "cell_type": "markdown",
   "id": "37f180ec",
   "metadata": {},
   "source": []
  }
 ],
 "metadata": {
  "kernelspec": {
   "display_name": "Python 3",
   "language": "python",
   "name": "python3"
  },
  "language_info": {
   "codemirror_mode": {
    "name": "ipython",
    "version": 3
   },
   "file_extension": ".py",
   "mimetype": "text/x-python",
   "name": "python",
   "nbconvert_exporter": "python",
   "pygments_lexer": "ipython3",
   "version": "3.12.1"
  }
 },
 "nbformat": 4,
 "nbformat_minor": 5
}
